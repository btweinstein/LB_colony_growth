{
 "cells": [
  {
   "cell_type": "code",
   "execution_count": 1,
   "metadata": {},
   "outputs": [
    {
     "name": "stdout",
     "output_type": "stream",
     "text": [
      "Populating the interactive namespace from numpy and matplotlib\n"
     ]
    }
   ],
   "source": [
    "%pylab inline"
   ]
  },
  {
   "cell_type": "code",
   "execution_count": 2,
   "metadata": {
    "collapsed": true
   },
   "outputs": [],
   "source": [
    "import vispy.gloo # Needs to be loaded first or everything breaks. IDK WHY!"
   ]
  },
  {
   "cell_type": "code",
   "execution_count": 1,
   "metadata": {},
   "outputs": [],
   "source": [
    "import vispy"
   ]
  },
  {
   "cell_type": "code",
   "execution_count": 2,
   "metadata": {},
   "outputs": [],
   "source": [
    "import vispy.app"
   ]
  },
  {
   "cell_type": "code",
   "execution_count": 3,
   "metadata": {},
   "outputs": [],
   "source": [
    "import seaborn as sns"
   ]
  },
  {
   "cell_type": "code",
   "execution_count": 4,
   "metadata": {},
   "outputs": [],
   "source": [
    "sns.set_context('paper', font_scale=2.2)\n",
    "sns.set_style('ticks')"
   ]
  },
  {
   "cell_type": "code",
   "execution_count": 5,
   "metadata": {},
   "outputs": [],
   "source": [
    "%load_ext autoreload\n",
    "%autoreload 2"
   ]
  },
  {
   "cell_type": "code",
   "execution_count": 6,
   "metadata": {},
   "outputs": [],
   "source": [
    "import LB_D2Q9.multicomponent_multiphase.multi as sc"
   ]
  },
  {
   "cell_type": "markdown",
   "metadata": {},
   "source": [
    "Ok, let's figure out how to scale our system appropriately."
   ]
  },
  {
   "cell_type": "code",
   "execution_count": 9,
   "metadata": {},
   "outputs": [
    {
     "name": "stdout",
     "output_type": "stream",
     "text": [
      "nx 256 ny 256\n"
     ]
    }
   ],
   "source": [
    "L_lb = 50 # How many lattice sites yeast radius is broken into\n",
    "\n",
    "nx = 256\n",
    "ny = 256\n",
    "\n",
    "print 'nx', nx, 'ny', ny"
   ]
  },
  {
   "cell_type": "code",
   "execution_count": 10,
   "metadata": {
    "collapsed": true
   },
   "outputs": [],
   "source": [
    "num_pops=1"
   ]
  },
  {
   "cell_type": "code",
   "execution_count": 11,
   "metadata": {
    "collapsed": true
   },
   "outputs": [],
   "source": [
    "bc_halo = 3\n",
    "bc_map = np.zeros((nx + 2*bc_halo, ny + 2*bc_halo, num_pops), dtype=sc.int_type)\n",
    "\n",
    "bc_map[...] = sc.REGULAR\n",
    "\n",
    "bc_map[0:bc_halo, :, :] = sc.NOSLIP_BC\n",
    "bc_map[-bc_halo:, :, :] = sc.NOSLIP_BC\n",
    "bc_map[:, 0:bc_halo, :] = sc.NOSLIP_BC\n",
    "bc_map[:, -bc_halo:, :] = sc.NOSLIP_BC"
   ]
  },
  {
   "cell_type": "code",
   "execution_count": 12,
   "metadata": {},
   "outputs": [
    {
     "data": {
      "text/plain": [
       "<matplotlib.colorbar.Colorbar at 0x7f5ef4684750>"
      ]
     },
     "execution_count": 12,
     "metadata": {},
     "output_type": "execute_result"
    },
    {
     "data": {
      "image/png": "[encoded data removed]",
      "text/plain": [
       "<matplotlib.figure.Figure at 0x7f5ef4e1cf10>"
      ]
     },
     "metadata": {},
     "output_type": "display_data"
    }
   ],
   "source": [
    "plt.imshow(bc_map[:, :, 0].T, origin='lower')\n",
    "plt.colorbar()"
   ]
  },
  {
   "cell_type": "code",
   "execution_count": 13,
   "metadata": {},
   "outputs": [
    {
     "name": "stdout",
     "output_type": "stream",
     "text": [
      "2d global: (256, 256)\n",
      "2d local: (32, 16)\n",
      "The platforms detected are:\n",
      "---------------------------\n",
      "NVIDIA CUDA NVIDIA Corporation version: OpenCL 1.2 CUDA 9.0.282\n",
      "The devices detected on platform NVIDIA CUDA are:\n",
      "---------------------------\n",
      "GeForce GTX TITAN Black [Type: GPU ]\n",
      "Maximum clock Frequency: 980 MHz\n",
      "Maximum allocable memory size: 1594 MB\n",
      "Maximum work group size 1024\n",
      "Maximum work item dimensions 3\n",
      "Maximum work item size [1024L, 1024L, 64L]\n",
      "---------------------------\n",
      "This context is associated with  1 devices\n"
     ]
    }
   ],
   "source": [
    "sim = sc.Simulation_RunnerD2Q25(\n",
    "    nx = nx,\n",
    "    ny = ny,\n",
    "    bc_map = bc_map,\n",
    "    L_lb = L_lb,\n",
    "    T_lb = 1.0, # Just a nonsense variable right now    \n",
    "    num_populations=num_pops,\n",
    "    two_d_local_size=(32,16), \n",
    "    check_max_ulb=False\n",
    ")"
   ]
  },
  {
   "cell_type": "code",
   "execution_count": 14,
   "metadata": {
    "collapsed": true
   },
   "outputs": [],
   "source": [
    "import pyopencl as cl"
   ]
  },
  {
   "cell_type": "code",
   "execution_count": 15,
   "metadata": {
    "collapsed": true
   },
   "outputs": [],
   "source": [
    "import skimage as ski\n",
    "import skimage.draw"
   ]
  },
  {
   "cell_type": "code",
   "execution_count": 16,
   "metadata": {
    "collapsed": true
   },
   "outputs": [],
   "source": [
    "center_lat_x = int(nx/2)\n",
    "center_lat_y = int(ny/2)\n",
    "\n",
    "bc = 'zero_density' # For the walls...no adhesion to walls."
   ]
  },
  {
   "cell_type": "code",
   "execution_count": 17,
   "metadata": {
    "collapsed": true
   },
   "outputs": [],
   "source": [
    "import skimage as ski\n",
    "import skimage.filters"
   ]
  },
  {
   "cell_type": "code",
   "execution_count": 18,
   "metadata": {
    "collapsed": true
   },
   "outputs": [],
   "source": [
    "circ_r, circ_c = ski.draw.circle(center_lat_x, center_lat_y, L_lb)\n",
    "\n",
    "# Figuring out the densities...\n",
    "\n",
    "rho_gas = 0.0767\n",
    "rho_fluid = 2.2408\n",
    "\n",
    "rho1 = rho_gas*np.ones((sim.nx, sim.ny))\n",
    "\n",
    "rho1[circ_r, circ_c] = rho_fluid # Guess of what the density should be...\n",
    "rho1 = ski.filters.gaussian(rho1, sigma=3)\n",
    "\n"
   ]
  },
  {
   "cell_type": "code",
   "execution_count": 19,
   "metadata": {},
   "outputs": [
    {
     "data": {
      "text/plain": [
       "<matplotlib.colorbar.Colorbar at 0x7f5ed2698910>"
      ]
     },
     "execution_count": 19,
     "metadata": {},
     "output_type": "execute_result"
    },
    {
     "data": {
      "image/png": "[encoded data removed]",
      "text/plain": [
       "<matplotlib.figure.Figure at 0x7f5ef46d1710>"
      ]
     },
     "metadata": {},
     "output_type": "display_data"
    }
   ],
   "source": [
    "plt.imshow(rho1.T, origin = 'lower', cmap=plt.cm.binary_r)\n",
    "plt.colorbar()"
   ]
  },
  {
   "cell_type": "code",
   "execution_count": 20,
   "metadata": {},
   "outputs": [
    {
     "name": "stdout",
     "output_type": "stream",
     "text": [
      "tau 1.0\n",
      "omega 1.0\n"
     ]
    }
   ],
   "source": [
    "media1 = sc.Fluid(sim, 0, nu = .5*sim.cs**2, bc=bc)\n",
    "media1.initialize(rho1, f_amp=1e-6)"
   ]
  },
  {
   "cell_type": "code",
   "execution_count": 21,
   "metadata": {
    "collapsed": true
   },
   "outputs": [],
   "source": [
    "sim.add_fluid(media1)"
   ]
  },
  {
   "cell_type": "code",
   "execution_count": 22,
   "metadata": {},
   "outputs": [
    {
     "name": "stdout",
     "output_type": "stream",
     "text": [
      "tau array: [1.]\n"
     ]
    }
   ],
   "source": [
    "sim.complete_setup()"
   ]
  },
  {
   "cell_type": "code",
   "execution_count": 23,
   "metadata": {},
   "outputs": [
    {
     "data": {
      "text/plain": [
       "[<LB_D2Q9.multicomponent_multiphase.multi.Fluid at 0x7f5ed26f5910>]"
      ]
     },
     "execution_count": 23,
     "metadata": {},
     "output_type": "execute_result"
    }
   ],
   "source": [
    "sim.fluid_list"
   ]
  },
  {
   "cell_type": "markdown",
   "metadata": {},
   "source": [
    "## Repulsion between yeast"
   ]
  },
  {
   "cell_type": "code",
   "execution_count": 24,
   "metadata": {},
   "outputs": [
    {
     "name": "stdout",
     "output_type": "stream",
     "text": [
      "0.4\n",
      "5.6\n"
     ]
    }
   ],
   "source": [
    "# Complete repulsion values with a nice looking interface :) \n",
    "\n",
    "# P = 2.125  # For linear\n",
    "# gamma = P\n",
    "\n",
    "P = 3.\n",
    "#P = 0.\n",
    "gamma = -5\n",
    "\n",
    "# P = 1.8  # For linear\n",
    "# gamma = 2.3\n",
    "\n",
    "\n",
    "zeta = 12./7.\n",
    "G1 = 2.*(gamma + P*zeta)/(zeta - 1)\n",
    "G2 = -2.*(gamma + P)/(zeta - 1)\n",
    "print G1\n",
    "print G2"
   ]
  },
  {
   "cell_type": "code",
   "execution_count": 25,
   "metadata": {
    "collapsed": true
   },
   "outputs": [],
   "source": [
    "# # Self-interaction! G is effectively doubled in this case.\n",
    "# #sim.add_interaction_force(0, 0, -20*.5, bc=bc) #repulsive\n",
    "# # sim.add_interaction_force(0, 1, G1, bc=bc, potential='linear') #repulsive\n",
    "sim.add_interaction_force(0, 0, -.5*G1, bc=bc, potential='shan_chen', \n",
    "                         potential_parameters=[1.], rho_wall=rho_gas) #repulsive\n",
    "sim.add_interaction_force_second_belt(0, 0, -.5*G2, bc=bc, potential='shan_chen', \n",
    "                        potential_parameters=[1.], rho_wall=rho_gas) #repulsive"
   ]
  },
  {
   "cell_type": "markdown",
   "metadata": {},
   "source": [
    "# Running the simulation"
   ]
  },
  {
   "cell_type": "code",
   "execution_count": 26,
   "metadata": {
    "collapsed": true
   },
   "outputs": [],
   "source": [
    "sim.run(1)"
   ]
  },
  {
   "cell_type": "code",
   "execution_count": 27,
   "metadata": {
    "collapsed": true
   },
   "outputs": [],
   "source": [
    "import LB_D2Q9.field_visualizer as fv"
   ]
  },
  {
   "cell_type": "code",
   "execution_count": 28,
   "metadata": {},
   "outputs": [
    {
     "name": "stderr",
     "output_type": "stream",
     "text": [
      "INFO: Could not import backend \"PyQt4\":\n",
      "No module named PyQt4\n",
      "INFO:vispy:Could not import backend \"PyQt4\":\n",
      "No module named PyQt4\n"
     ]
    }
   ],
   "source": [
    "visualizer = fv.Field_Visualizer_Canvas(sim, sim.rho[:, :, 0], num_steps_per_draw=1, max_magnitude=1.1*rho_fluid)\n",
    "#visualizer = fv.Field_Visualizer_Canvas(sim, sim.u_bary, num_steps_per_draw=1, max_magnitude=.1)"
   ]
  },
  {
   "cell_type": "code",
   "execution_count": 29,
   "metadata": {
    "collapsed": true
   },
   "outputs": [],
   "source": [
    "import time"
   ]
  },
  {
   "cell_type": "code",
   "execution_count": 33,
   "metadata": {
    "scrolled": false
   },
   "outputs": [
    {
     "name": "stdout",
     "output_type": "stream",
     "text": [
      "9.3 FPS\n",
      "60.7 FPS\n",
      "60.0 FPS\n",
      "59.0 FPS\n",
      "57.1 FPS\n",
      "60.0 FPS\n",
      "60.0 FPS\n",
      "60.0 FPS\n",
      "60.0 FPS\n",
      "60.0 FPS\n",
      "60.0 FPS\n",
      "60.0 FPS\n",
      "60.0 FPS\n",
      "60.0 FPS\n",
      "60.0 FPS\n",
      "60.0 FPS\n",
      "60.0 FPS\n",
      "60.0 FPS\n",
      "60.0 FPS\n",
      "60.0 FPS\n",
      "60.0 FPS\n",
      "60.0 FPS\n",
      "60.0 FPS\n",
      "60.0 FPS\n",
      "60.0 FPS\n",
      "60.0 FPS\n",
      "60.0 FPS\n",
      "60.0 FPS\n",
      "59.0 FPS\n",
      "60.0 FPS\n",
      "60.0 FPS\n",
      "60.0 FPS\n",
      "60.0 FPS\n",
      "60.0 FPS\n",
      "60.0 FPS\n",
      "60.0 FPS\n",
      "60.0 FPS\n",
      "60.0 FPS\n",
      "60.0 FPS\n",
      "60.0 FPS\n",
      "60.0 FPS\n",
      "60.0 FPS\n",
      "60.0 FPS\n",
      "60.0 FPS\n",
      "60.0 FPS\n",
      "60.0 FPS\n",
      "60.0 FPS\n",
      "60.0 FPS\n",
      "60.0 FPS\n",
      "60.0 FPS\n",
      "60.0 FPS\n",
      "60.0 FPS\n",
      "60.0 FPS\n",
      "Time Elapsed: 52.6878581047\n",
      "Time points run: 3775\n",
      "Total dimensionless time run: 3775.0\n"
     ]
    }
   ],
   "source": [
    "tstart = time.time()\n",
    "visualizer.show()\n",
    "visualizer.measure_fps()\n",
    "visualizer.app.run(allow_interactive=False)\n",
    "tfinish = time.time()\n",
    "\n",
    "print 'Time Elapsed:', tfinish - tstart\n",
    "print 'Time points run:', visualizer.total_num_steps\n",
    "print 'Total dimensionless time run:', visualizer.total_num_steps*sim.delta_t"
   ]
  },
  {
   "cell_type": "markdown",
   "metadata": {},
   "source": [
    "# Adding gravitational force"
   ]
  },
  {
   "cell_type": "code",
   "execution_count": 31,
   "metadata": {
    "collapsed": true
   },
   "outputs": [],
   "source": [
    "sim.add_radial_g_force(0, center_lat_x, center_lat_y, 1e-5, 1.0)"
   ]
  },
  {
   "cell_type": "code",
   "execution_count": 32,
   "metadata": {
    "collapsed": true
   },
   "outputs": [],
   "source": [
    "#sim.add_constant_g_force(0, 0, -1e-4)"
   ]
  },
  {
   "cell_type": "markdown",
   "metadata": {},
   "source": [
    "## Checking the sim"
   ]
  },
  {
   "cell_type": "code",
   "execution_count": 40,
   "metadata": {},
   "outputs": [
    {
     "name": "stdout",
     "output_type": "stream",
     "text": [
      "2.2328268704355834 0.07697839257112656\n",
      "29.00589108005203\n"
     ]
    }
   ],
   "source": [
    "rho_max = sim.rho.get().max()\n",
    "rho_min = sim.rho.get().min()\n",
    "print rho_max, rho_min\n",
    "print rho_max/rho_min"
   ]
  },
  {
   "cell_type": "code",
   "execution_count": null,
   "metadata": {
    "collapsed": true
   },
   "outputs": [],
   "source": []
  },
  {
   "cell_type": "code",
   "execution_count": 41,
   "metadata": {},
   "outputs": [
    {
     "data": {
      "text/plain": [
       "[<matplotlib.lines.Line2D at 0x7fc0bc3aba50>]"
      ]
     },
     "execution_count": 41,
     "metadata": {},
     "output_type": "execute_result"
    },
    {
     "data": {
      "image/png": "[encoded data removed]",
      "text/plain": [
       "<matplotlib.figure.Figure at 0x7fc0c481d610>"
      ]
     },
     "metadata": {},
     "output_type": "display_data"
    }
   ],
   "source": [
    "rho1 = sim.rho.get()[sim.nx/2, :, 0]\n",
    "plt.plot(rho1)\n",
    "rho1 = sim.rho.get()[0, :, 0]\n",
    "plt.plot(rho1)"
   ]
  },
  {
   "cell_type": "code",
   "execution_count": 37,
   "metadata": {},
   "outputs": [
    {
     "data": {
      "text/plain": [
       "<matplotlib.colorbar.Colorbar at 0x7fb37d9f4ed0>"
      ]
     },
     "execution_count": 37,
     "metadata": {},
     "output_type": "execute_result"
    },
    {
     "data": {
      "image/png": "[encoded data removed]",
      "text/plain": [
       "<matplotlib.figure.Figure at 0x7fb37daf7690>"
      ]
     },
     "metadata": {},
     "output_type": "display_data"
    }
   ],
   "source": [
    "plt.imshow(np.sum(sim.rho.get(), axis=2))\n",
    "plt.colorbar()"
   ]
  },
  {
   "cell_type": "code",
   "execution_count": 54,
   "metadata": {},
   "outputs": [
    {
     "data": {
      "text/plain": [
       "[<matplotlib.lines.Line2D at 0x7fce2bd4d7d0>]"
      ]
     },
     "execution_count": 54,
     "metadata": {},
     "output_type": "execute_result"
    },
    {
     "data": {
      "image/png": "[encoded data removed]",
      "text/plain": [
       "<matplotlib.figure.Figure at 0x7fce2bdd5dd0>"
      ]
     },
     "metadata": {},
     "output_type": "display_data"
    }
   ],
   "source": [
    "plt.semilogy(rho1)\n",
    "plt.semilogy(rho2)\n",
    "plt.semilogy(rho3)"
   ]
  },
  {
   "cell_type": "code",
   "execution_count": 90,
   "metadata": {
    "collapsed": true
   },
   "outputs": [],
   "source": [
    "sim.run(10)"
   ]
  },
  {
   "cell_type": "code",
   "execution_count": 90,
   "metadata": {},
   "outputs": [
    {
     "data": {
      "text/plain": [
       "14543.999999337568"
      ]
     },
     "execution_count": 90,
     "metadata": {},
     "output_type": "execute_result"
    }
   ],
   "source": [
    "sim.rho.get().sum()"
   ]
  },
  {
   "cell_type": "code",
   "execution_count": 91,
   "metadata": {},
   "outputs": [
    {
     "data": {
      "text/plain": [
       "-7.753186794379539e-08"
      ]
     },
     "execution_count": 91,
     "metadata": {},
     "output_type": "execute_result"
    }
   ],
   "source": [
    "np.min(sim.rho.get())"
   ]
  },
  {
   "cell_type": "code",
   "execution_count": null,
   "metadata": {
    "collapsed": true
   },
   "outputs": [],
   "source": [
    "plt.plot(rho1)\n",
    "plt.ylim(0, .1)"
   ]
  },
  {
   "cell_type": "code",
   "execution_count": null,
   "metadata": {
    "collapsed": true
   },
   "outputs": [],
   "source": [
    "plt.plot(sim.rho.get()[sim.nx/2, :, 0], ls='-', marker='.')\n",
    "plt.plot(sim.rho.get()[sim.nx/2, :, 1], ls='-', marker='.')\n",
    "\n",
    "plt.hlines(1, 0, sim.ny, linestyles='--')\n",
    "plt.hlines(0, 0, sim.ny, linestyles='--')\n",
    "\n",
    "plt.figure()\n",
    "\n",
    "plt.semilogy(sim.rho.get()[sim.nx/2, :, 1], ls='-', marker='.')\n",
    "plt.hlines(1, 0, sim.ny, linestyles='--')\n",
    "plt.hlines(0, 0, sim.ny, linestyles='--')\n",
    "\n",
    "\n",
    "plt.figure()\n",
    "\n",
    "rho_sum = np.sum(sim.rho.get(), axis=2)\n",
    "plt.plot(rho_sum[sim.nx/2, :], ls='-', marker='.')\n",
    "plt.hlines(1, 0, sim.ny, linestyles='--')\n",
    "plt.hlines(0, 0, sim.ny, linestyles='--')"
   ]
  },
  {
   "cell_type": "markdown",
   "metadata": {},
   "source": [
    "The only thing I really do not like here is the very weird, large diffusing tail."
   ]
  },
  {
   "cell_type": "code",
   "execution_count": null,
   "metadata": {
    "collapsed": true
   },
   "outputs": [],
   "source": [
    "plt.plot(sim.Gy.get()[sim.nx/2, :, 0])"
   ]
  },
  {
   "cell_type": "code",
   "execution_count": null,
   "metadata": {
    "collapsed": true
   },
   "outputs": [],
   "source": [
    "sim.rho.get().sum()"
   ]
  },
  {
   "cell_type": "code",
   "execution_count": null,
   "metadata": {
    "collapsed": true
   },
   "outputs": [],
   "source": [
    "plt.streamplot(sim.Y, sim.X, sim.Gx.get()[:, :, 0], sim.Gy.get()[:, :, 0])"
   ]
  },
  {
   "cell_type": "code",
   "execution_count": null,
   "metadata": {
    "collapsed": true
   },
   "outputs": [],
   "source": [
    "plt.pcolormesh(sim.Y, sim.X, sim.Gx.get()[:, :, 0], cmap=plt.cm.binary_r)\n",
    "plt.colorbar()"
   ]
  },
  {
   "cell_type": "code",
   "execution_count": null,
   "metadata": {
    "collapsed": true
   },
   "outputs": [],
   "source": [
    "plt.pcolormesh(sim.Y, sim.X, sim.Gy.get()[:, :, 0], cmap=plt.cm.binary_r)\n",
    "plt.colorbar()"
   ]
  },
  {
   "cell_type": "code",
   "execution_count": null,
   "metadata": {
    "collapsed": true
   },
   "outputs": [],
   "source": [
    "np.sum(sim.rho.get())"
   ]
  },
  {
   "cell_type": "code",
   "execution_count": null,
   "metadata": {
    "collapsed": true
   },
   "outputs": [],
   "source": [
    "plt.imshow(sim.rho.get()[:, :, 0])\n",
    "plt.colorbar()"
   ]
  },
  {
   "cell_type": "code",
   "execution_count": null,
   "metadata": {
    "collapsed": true
   },
   "outputs": [],
   "source": [
    "plt.imshow(sim.rho.get()[:, :, 1])\n",
    "plt.colorbar()"
   ]
  },
  {
   "cell_type": "code",
   "execution_count": null,
   "metadata": {
    "collapsed": true
   },
   "outputs": [],
   "source": [
    "plt.imshow(np.sum(sim.rho.get(), axis=2))\n",
    "plt.colorbar()"
   ]
  },
  {
   "cell_type": "markdown",
   "metadata": {},
   "source": [
    "How is the sum of the densities larger than one? That's really not good, right?"
   ]
  },
  {
   "cell_type": "code",
   "execution_count": null,
   "metadata": {
    "collapsed": true
   },
   "outputs": [],
   "source": [
    "sim.run(1)"
   ]
  },
  {
   "cell_type": "markdown",
   "metadata": {},
   "source": [
    "# Other stuff"
   ]
  },
  {
   "cell_type": "code",
   "execution_count": null,
   "metadata": {
    "collapsed": true
   },
   "outputs": [],
   "source": [
    "media1.update_hydro()"
   ]
  },
  {
   "cell_type": "code",
   "execution_count": null,
   "metadata": {
    "collapsed": true
   },
   "outputs": [],
   "source": [
    "media2.update_hydro()"
   ]
  },
  {
   "cell_type": "code",
   "execution_count": null,
   "metadata": {
    "collapsed": true
   },
   "outputs": [],
   "source": [
    "plt.imshow(sim.u.get()[:, :, 1])"
   ]
  },
  {
   "cell_type": "code",
   "execution_count": null,
   "metadata": {
    "collapsed": true
   },
   "outputs": [],
   "source": [
    "plt.imshow(sim._prime.get()[:, :])\n",
    "plt.colorbar()"
   ]
  },
  {
   "cell_type": "code",
   "execution_count": null,
   "metadata": {
    "collapsed": true
   },
   "outputs": [],
   "source": [
    "plt.imshow(sim.rho.get()[:, :, 1], cmap=plt.cm.binary_r)"
   ]
  },
  {
   "cell_type": "code",
   "execution_count": null,
   "metadata": {
    "collapsed": true
   },
   "outputs": [],
   "source": [
    "plt.imshow(sim.f.get()[:, :, 1, 5])\n",
    "plt.colorbar()"
   ]
  },
  {
   "cell_type": "code",
   "execution_count": null,
   "metadata": {
    "collapsed": true
   },
   "outputs": [],
   "source": [
    "sim.run(1)"
   ]
  },
  {
   "cell_type": "code",
   "execution_count": null,
   "metadata": {
    "collapsed": true
   },
   "outputs": [],
   "source": [
    "plt.imshow(sim.rho.get()[:, :, 1])"
   ]
  },
  {
   "cell_type": "markdown",
   "metadata": {},
   "source": [
    "Let us attempt to create pipe flow now...we have to do that check unfortuantely. We'll impose a constant velocity at the inlet and outlet. For each phase. I don't see a way to avoid it...yeah. We're going to need pressure BC's eventually anyways..."
   ]
  },
  {
   "cell_type": "markdown",
   "metadata": {},
   "source": [
    "# Tests"
   ]
  },
  {
   "cell_type": "code",
   "execution_count": null,
   "metadata": {
    "collapsed": true
   },
   "outputs": [],
   "source": [
    "feqtest = sim.feq.get()\n",
    "print feqtest.shape"
   ]
  },
  {
   "cell_type": "code",
   "execution_count": null,
   "metadata": {
    "collapsed": true
   },
   "outputs": [],
   "source": [
    "plt.imshow(feqtest[:, :, 0, 1], cmap=plt.cm.binary_r)\n",
    "plt.colorbar()"
   ]
  },
  {
   "cell_type": "markdown",
   "metadata": {},
   "source": [
    "Hm. A couple of interesting problems...we need to initialize uprime and vprime, actually...*not* the u and v for each phase!"
   ]
  },
  {
   "cell_type": "code",
   "execution_count": null,
   "metadata": {
    "collapsed": true
   },
   "outputs": [],
   "source": [
    "ftest = sim.f.get()\n",
    "print ftest.shape"
   ]
  },
  {
   "cell_type": "code",
   "execution_count": null,
   "metadata": {
    "collapsed": true
   },
   "outputs": [],
   "source": [
    "plt.imshow(ftest[:, :, 0, 5], cmap=plt.cm.binary_r)\n",
    "plt.colorbar()"
   ]
  },
  {
   "cell_type": "markdown",
   "metadata": {},
   "source": [
    "This looks right. Good."
   ]
  },
  {
   "cell_type": "code",
   "execution_count": null,
   "metadata": {
    "collapsed": true
   },
   "outputs": [],
   "source": []
  }
 ],
 "metadata": {
  "kernelspec": {
   "display_name": "Python 2",
   "language": "python",
   "name": "python2"
  },
  "language_info": {
   "codemirror_mode": {
    "name": "ipython",
    "version": 2
   },
   "file_extension": ".py",
   "mimetype": "text/x-python",
   "name": "python",
   "nbconvert_exporter": "python",
   "pygments_lexer": "ipython2",
   "version": "2.7.14"
  }
 },
 "nbformat": 4,
 "nbformat_minor": 1
}
