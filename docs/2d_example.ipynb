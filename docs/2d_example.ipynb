{
 "cells": [
  {
   "cell_type": "code",
   "execution_count": 1,
   "metadata": {},
   "outputs": [],
   "source": [
    "%load_ext autoreload\n",
    "%autoreload 2"
   ]
  },
  {
   "cell_type": "code",
   "execution_count": 2,
   "metadata": {},
   "outputs": [
    {
     "name": "stdout",
     "output_type": "stream",
     "text": [
      "Populating the interactive namespace from numpy and matplotlib\n"
     ]
    }
   ],
   "source": [
    "%pylab inline"
   ]
  },
  {
   "cell_type": "code",
   "execution_count": 3,
   "metadata": {},
   "outputs": [],
   "source": [
    "import seaborn as sns"
   ]
  },
  {
   "cell_type": "code",
   "execution_count": 4,
   "metadata": {},
   "outputs": [],
   "source": [
    "sns.set_context('paper', font_scale=2.2)\n",
    "sns.set_style('ticks')"
   ]
  },
  {
   "cell_type": "code",
   "execution_count": 5,
   "metadata": {},
   "outputs": [],
   "source": [
    "import LB_colony_growth.LB_colony_growth as lb\n",
    "import LB_colony_growth.velocity_sets as vsets\n",
    "from LB_colony_growth.node_types import node_types"
   ]
  },
  {
   "cell_type": "markdown",
   "metadata": {},
   "source": [
    "# Setting up the domain"
   ]
  },
  {
   "cell_type": "code",
   "execution_count": 6,
   "metadata": {},
   "outputs": [],
   "source": [
    "dimension = 2 # A 2-dimensional problem\n",
    "\n",
    "# How the domain is decomposed into workgroups on the CPU/GPU\n",
    "workgroup_x = 64\n",
    "workgroup_y = 32\n",
    "\n",
    "nx = 128\n",
    "ny = 128\n",
    "\n",
    "# What lattice-boltzmann velocity set to use; only D2Q9 is implemented\n",
    "# for 2-d right now.\n",
    "velocity_set = 'D2Q9'\n",
    "\n",
    "# What ring of neighbors individuals can propagate to in each timestep\n",
    "halo = vsets.D2Q9.halo "
   ]
  },
  {
   "cell_type": "code",
   "execution_count": 7,
   "metadata": {},
   "outputs": [],
   "source": [
    "# ctx_info: Information about the simulation that mako renders\n",
    "ctx_info = {}\n",
    "\n",
    "# Choose float or double. Most GPUs are MUCH faster when using float\n",
    "# precision.\n",
    "ctx_info['num_type'] = 'double'\n",
    "\n",
    "ctx_info['nx'] = nx\n",
    "ctx_info['ny'] = ny\n",
    "ctx_info['nz'] = None\n",
    "\n",
    "ctx_info['local_size'] = (workgroup_x, workgroup_y)\n",
    "ctx_info['domain_size'] = (nx, ny)\n",
    "\n",
    "ctx_info['dimension'] = dimension\n",
    "\n",
    "# The kernel arguments dictionary needs to be initialized; responsible\n",
    "# for linking python and openCL\n",
    "ctx_info['kernel_arguments'] = {}"
   ]
  },
  {
   "cell_type": "markdown",
   "metadata": {},
   "source": [
    "## Initializing domain boundaries"
   ]
  },
  {
   "cell_type": "markdown",
   "metadata": {},
   "source": [
    "The **bc_map** is the size of the domain plus the halo in each direction. One must specify all node types on the edges of the domain, plus inside the domain.\n",
    "\n",
    "Each node type has an integer value associated with it."
   ]
  },
  {
   "cell_type": "code",
   "execution_count": 8,
   "metadata": {},
   "outputs": [],
   "source": [
    "bc_map = np.zeros((nx + 2*halo, ny + 2*halo), dtype=lb.int_type)\n",
    "\n",
    "bc_map[...] = node_types['FLUID_NODE']\n",
    "\n",
    "bc_map[0, :] = node_types['PERIODIC']\n",
    "bc_map[-1, :] = node_types['PERIODIC']\n",
    "\n",
    "# Wall nodes need to overwrite periodic ones\n",
    "bc_map[:, 0] = node_types['WALL_NODE']\n",
    "bc_map[:, -1] = node_types['WALL_NODE']"
   ]
  },
  {
   "cell_type": "code",
   "execution_count": 9,
   "metadata": {},
   "outputs": [
    {
     "data": {
      "text/plain": [
       "<matplotlib.colorbar.Colorbar at 0x7ff6e472cc90>"
      ]
     },
     "execution_count": 9,
     "metadata": {},
     "output_type": "execute_result"
    },
    {
     "data": {
      "image/png": "[encoded data removed]",
      "text/plain": [
       "<matplotlib.figure.Figure at 0x7ff6ebebc710>"
      ]
     },
     "metadata": {},
     "output_type": "display_data"
    }
   ],
   "source": [
    "plt.imshow(bc_map, origin='lower')\n",
    "plt.colorbar()"
   ]
  },
  {
   "cell_type": "markdown",
   "metadata": {},
   "source": [
    "This bc_map illustrates a domain with periodic boundaries on the top and bottom, walls on the left and right, and fluid nodes everywhere else."
   ]
  },
  {
   "cell_type": "markdown",
   "metadata": {},
   "source": [
    "### Initializing the microbial colony"
   ]
  },
  {
   "cell_type": "markdown",
   "metadata": {},
   "source": [
    "Alleles are given negative integer numbers in the **bc_map**."
   ]
  },
  {
   "cell_type": "code",
   "execution_count": 10,
   "metadata": {},
   "outputs": [],
   "source": [
    "num_alleles = 2\n",
    "rand_alleles = np.random.randint(-num_alleles, 0, size=bc_map.shape)"
   ]
  },
  {
   "cell_type": "code",
   "execution_count": 11,
   "metadata": {},
   "outputs": [],
   "source": [
    "height = 10\n",
    "bc_map[halo:-halo, 1:1+height] = rand_alleles[halo:-halo, 1:1+height]"
   ]
  },
  {
   "cell_type": "code",
   "execution_count": 12,
   "metadata": {
    "scrolled": true
   },
   "outputs": [
    {
     "data": {
      "text/plain": [
       "<matplotlib.colorbar.Colorbar at 0x7ff6e464bc10>"
      ]
     },
     "execution_count": 12,
     "metadata": {},
     "output_type": "execute_result"
    },
    {
     "data": {
      "image/png": "[encoded data removed]",
      "text/plain": [
       "<matplotlib.figure.Figure at 0x7ff6e4779450>"
      ]
     },
     "metadata": {},
     "output_type": "display_data"
    }
   ],
   "source": [
    "plt.imshow(bc_map, origin='lower')\n",
    "plt.colorbar()"
   ]
  },
  {
   "cell_type": "markdown",
   "metadata": {},
   "source": [
    "## The physics"
   ]
  },
  {
   "cell_type": "markdown",
   "metadata": {},
   "source": [
    "### Diffusing Nutrient Field\n",
    "\n",
    "The equation governing the diffusing nutrient field is:\n",
    "\n",
    "$$ \\frac{\\partial \\rho}{\\partial t} = D \\nabla^2 \\rho$$\n",
    "\n",
    "### Nutrient Absorption\n",
    "\n",
    "The mass flux into a microbe is proportional to mass field outside of it ($\\rho$) and is given by\n",
    "\n",
    "$$j_\\text{absorb} \\cdot \\hat{n} = k c $$ \n",
    "\n",
    "where $\\hat{n}$ points into the microbe. The boundary condition on the edge of a microbe is obtained by equating the diffusive flux to the mass flux into the microbe; we find that\n",
    "\n",
    "$$ \\left( \\frac{\\partial \\rho}{\\partial n} = \\frac{k \\rho}{D}\\right)\\bigg|_\\text{interface}$$\n",
    "\n",
    "Microbes divide after absorbing an amount of mass $m_0$. The mass absorbed by a microbe $m$ per unit time is then\n",
    "$$\\frac{dm}{dt} = a^{d-1} k c$$\n",
    "\n",
    "where $d$ is the dimension of the problem and $a$ is the width of a microbe. Note that microbes occupy lattice sites, so the width of a microbe in lattice units is always $1 \\ \\mathrm{lu}$."
   ]
  },
  {
   "cell_type": "markdown",
   "metadata": {},
   "source": [
    "### Non-dimensionalizing the set of equations"
   ]
  },
  {
   "cell_type": "markdown",
   "metadata": {},
   "source": [
    "Let the characteristic mass field density in the domain be $\\rho_0$. We can completely non-dimensionalize the above set of equations to read (using the subscript $d$ to illustrate a dimensionless number):\n",
    "\n",
    "$$\\frac{\\partial \\rho_d}{\\partial t_d} = \\nabla_d^2 \\rho_d$$\n",
    "\n",
    "$$\\left( \\frac{\\partial \\rho_d}{\\partial n_d} = -R \\rho_d \\right)\\bigg|_\\text{interface}$$\n",
    "\n",
    "$$\\frac{d m_d}{d t_d} = \\rho_d$$\n",
    "\n",
    "where the characteristic length and time scales chosen are\n",
    "\n",
    "$$\\tau_g = \\frac{m_0}{a^{d-1}\\rho_0}\\frac{1}{k} \\equiv \\text{generation time}$$\n",
    "\n",
    "$$L = \\sqrt{D \\tau_g} \\equiv \\text{Length that nutrients diffuse per generation time}$$\n",
    "\n",
    "and \n",
    "\n",
    "$$m_d = m/m_0$$\n",
    "$$\\rho_d = \\rho/\\rho_0$$\n",
    "\n",
    "The remaining dimensionless parameter, $R$, largely controls the physics of this problem and is given by\n",
    "\n",
    "$$R=k \\sqrt{\\frac{\\tau_g}{D}} \\equiv \\mathrm{\\frac{Reaction \\ velocity}{Diffusion \\ velocity?}}$$\n",
    "\n",
    "Essentially, as $R \\rightarrow 0$, colonies become more compact and resemble standard range expansions. As $R$ becomes larger, the colony becomes more dendritic."
   ]
  },
  {
   "cell_type": "markdown",
   "metadata": {},
   "source": [
    "## The physics: setting up the dimensionless numbers"
   ]
  },
  {
   "cell_type": "markdown",
   "metadata": {},
   "source": [
    "We now specify $L$ and $R$ from above and adjust simulation parameters to obtain those values."
   ]
  },
  {
   "cell_type": "code",
   "execution_count": 13,
   "metadata": {},
   "outputs": [],
   "source": [
    "cs = vsets.D2Q9.cs # Speed of sound in lattice units; needed for lattice boltzmann"
   ]
  },
  {
   "cell_type": "markdown",
   "metadata": {},
   "source": [
    "We always operate in lattice units. The width of a single lattice site is *1 lu*, or 1 lattice unit, and each time step has units of *1 ts*, or one timestep.\n",
    "\n",
    "Similarly, density has units of $\\frac{mu}{lu^3}$ where $mu$ is the mass unit."
   ]
  },
  {
   "cell_type": "code",
   "execution_count": 14,
   "metadata": {},
   "outputs": [],
   "source": [
    "### Variables that are stiff; more or less fixed ###\n",
    "\n",
    "a = 1. #lu; width of a single lattice site\n",
    "D = .5 * cs**2 # lu^2/ts\n"
   ]
  },
  {
   "cell_type": "code",
   "execution_count": 15,
   "metadata": {},
   "outputs": [],
   "source": [
    "# Dimensionless numbers we want to change that govern the physics\n",
    "\n",
    "L = 1. # lu: Diffusion length per division time\n",
    "R = 3. # Reaction velocity vs. diffusion velocity"
   ]
  },
  {
   "cell_type": "code",
   "execution_count": 16,
   "metadata": {},
   "outputs": [
    {
     "name": "stdout",
     "output_type": "stream",
     "text": [
      "gamma: 3.0\n",
      "k: 0.5\n"
     ]
    }
   ],
   "source": [
    "# Resulting variables\n",
    "\n",
    "gamma = L*R\n",
    "print 'gamma:', gamma\n",
    "\n",
    "# Note that if gamma > 1, the cells will not occupy the entire domain unless more nutrients flow in...\n",
    "\n",
    "k = (D*R/L)\n",
    "print 'k:', k # lu/ts"
   ]
  },
  {
   "cell_type": "code",
   "execution_count": 17,
   "metadata": {},
   "outputs": [
    {
     "name": "stdout",
     "output_type": "stream",
     "text": [
      "rho_0 1.0\n",
      "m0 3.0\n"
     ]
    }
   ],
   "source": [
    "### Optional choices\n",
    "\n",
    "rho0 = 1. # mu/lu^3\n",
    "m0 = rho0*gamma #mu\n",
    "\n",
    "print 'rho_0', rho0\n",
    "print 'm0', m0"
   ]
  },
  {
   "cell_type": "code",
   "execution_count": 18,
   "metadata": {},
   "outputs": [
    {
     "name": "stdout",
     "output_type": "stream",
     "text": [
      "Generation time tau_g: 6.0 ts\n",
      "Diffusion length per division time: 1.0 lu\n",
      "Reaction velocity vs. diffusion velocity 3.0\n"
     ]
    }
   ],
   "source": [
    "d = dimension\n",
    "\n",
    "tau_g = m0/(a**(d-1)*rho0*k)\n",
    "print 'Generation time tau_g:', tau_g , 'ts'\n",
    "\n",
    "L = np.sqrt(D*tau_g)\n",
    "print 'Diffusion length per division time:', L, 'lu'\n",
    "\n",
    "R = k*np.sqrt(tau_g/D)\n",
    "print 'Reaction velocity vs. diffusion velocity', R"
   ]
  },
  {
   "cell_type": "markdown",
   "metadata": {},
   "source": [
    "# Finish setting up..."
   ]
  },
  {
   "cell_type": "code",
   "execution_count": 19,
   "metadata": {},
   "outputs": [
    {
     "data": {
      "text/plain": [
       "<matplotlib.colorbar.Colorbar at 0x7ff6e45a3f90>"
      ]
     },
     "execution_count": 19,
     "metadata": {},
     "output_type": "execute_result"
    },
    {
     "data": {
      "image/png": "[encoded data removed]",
      "text/plain": [
       "<matplotlib.figure.Figure at 0x7ff6e4780990>"
      ]
     },
     "metadata": {},
     "output_type": "display_data"
    }
   ],
   "source": [
    "rho = rho0*np.ones((nx, ny), dtype=np.double) # The nutrient field\n",
    "bc_in_domain = bc_map[halo:-halo, halo:-halo]\n",
    "\n",
    "rho[bc_in_domain < 0] = 0\n",
    "\n",
    "plt.imshow(rho)\n",
    "plt.colorbar()"
   ]
  },
  {
   "cell_type": "code",
   "execution_count": 20,
   "metadata": {},
   "outputs": [
    {
     "data": {
      "text/plain": [
       "<matplotlib.colorbar.Colorbar at 0x7ff6e446e650>"
      ]
     },
     "execution_count": 20,
     "metadata": {},
     "output_type": "execute_result"
    },
    {
     "data": {
      "image/png": "[encoded data removed]",
      "text/plain": [
       "<matplotlib.figure.Figure at 0x7ff6e458bb10>"
      ]
     },
     "metadata": {},
     "output_type": "display_data"
    }
   ],
   "source": [
    "# Initialize the current amount of absorbed mass randomly in the microbes\n",
    "\n",
    "absorbed_mass = m0*np.random.rand(nx, ny)\n",
    "bc_in_domain = bc_map[halo:-halo, halo:-halo]\n",
    "\n",
    "absorbed_mass[bc_in_domain >= 0] = 0\n",
    "\n",
    "plt.imshow(absorbed_mass)\n",
    "plt.colorbar()"
   ]
  },
  {
   "cell_type": "code",
   "execution_count": 21,
   "metadata": {},
   "outputs": [],
   "source": [
    "k_list = num_alleles*[k] # Each allele has its own nutrient absorption rate\n",
    "m_reproduce_list = num_alleles*[m0] # Each allele has its own amount of mass needed for dividsion"
   ]
  },
  {
   "cell_type": "markdown",
   "metadata": {},
   "source": [
    "# Creating the simulation"
   ]
  },
  {
   "cell_type": "code",
   "execution_count": 22,
   "metadata": {},
   "outputs": [
    {
     "name": "stdout",
     "output_type": "stream",
     "text": [
      "global size: (128, 128)\n",
      "local size: (64, 32)\n",
      "The platforms detected are:\n",
      "---------------------------\n",
      "Intel(R) OpenCL Intel(R) Corporation version: OpenCL 1.2 LINUX\n",
      "The devices detected on platform Intel(R) OpenCL are:\n",
      "---------------------------\n",
      "       Intel(R) Core(TM) i7-3537U CPU @ 2.00GHz [Type: CPU ]\n",
      "Maximum clock Frequency: 2000 MHz\n",
      "Maximum allocable memory size: 2062 MB\n",
      "Maximum work group size 8192\n",
      "Maximum work item dimensions 3\n",
      "Maximum work item size [8192L, 8192L, 8192L]\n",
      "---------------------------\n",
      "This context is associated with  1 devices\n",
      "tau 1.0\n",
      "omega 1.0\n",
      "global_size_bc: (192, 160)\n",
      "Connecting python to the opencl_kernel init_feq...\n",
      "Connecting python to the opencl_kernel collide_and_propagate...\n",
      "Creating local memory of num_type type...\n",
      "Creating local memory of int type...\n",
      "Connecting python to the opencl_kernel update_after_streaming...\n",
      "Connecting python to the opencl_kernel reproduce...\n",
      "Creating local memory of int type...\n",
      "Connecting python to the opencl_kernel copy_streamed_onto_f...\n",
      "Connecting python to the opencl_kernel copy_streamed_onto_bc...\n"
     ]
    },
    {
     "name": "stderr",
     "output_type": "stream",
     "text": [
      "/home/bryan/git/LB_colony_growth/LB_colony_growth/LB_colony_growth.py:383: UserWarning: Received OpenCL source code in Unicode, should be ASCII string. Attempting conversion.\n",
      "  self.kernels = cl.Program(self.context, buf.getvalue()).build(options='')\n",
      "/home/bryan/anaconda2/lib/python2.7/site-packages/pyopencl/cffi_cl.py:1516: CompilerWarning: Built kernel retrieved from cache. Original from-source build had warnings:\n",
      "Build on <pyopencl.Device 'Intel(R) Core(TM) i7-3537U CPU @ 2.00GHz' on 'Intel(R) OpenCL' at 0x7ff75c97f108> succeeded, but said:\n",
      "\n",
      "Compilation started\n",
      "Compilation done\n",
      "Linking started\n",
      "Linking done\n",
      "Device build started\n",
      "Device build done\n",
      "Kernel <collide_and_propagate> was successfully vectorized (4)\n",
      "Kernel <update_after_streaming> was successfully vectorized (8)\n",
      "Kernel <init_feq> was successfully vectorized (8)\n",
      "Kernel <reproduce> was not vectorized\n",
      "Kernel <copy_streamed_onto_f> was successfully vectorized (4)\n",
      "Kernel <copy_streamed_onto_bc> was successfully vectorized (4)\n",
      "Done.\n",
      "  warn(text, CompilerWarning)\n",
      "/home/bryan/anaconda2/lib/python2.7/site-packages/pyopencl/cffi_cl.py:1516: CompilerWarning: From-binary build succeeded, but resulted in non-empty logs:\n",
      "Build on <pyopencl.Device 'Intel(R) Core(TM) i7-3537U CPU @ 2.00GHz' on 'Intel(R) OpenCL' at 0x7ff75c97f108> succeeded, but said:\n",
      "\n",
      "Device build started\n",
      "Device build done\n",
      "Reload Program Binary Object.\n",
      "  warn(text, CompilerWarning)\n",
      "/home/bryan/anaconda2/lib/python2.7/site-packages/pyopencl/cffi_cl.py:1516: CompilerWarning: Built kernel retrieved from cache. Original from-source build had warnings:\n",
      "Build on <pyopencl.Device 'Intel(R) Core(TM) i7-3537U CPU @ 2.00GHz' on 'Intel(R) OpenCL' at 0x7ff75c97f108> succeeded, but said:\n",
      "\n",
      "Compilation started\n",
      "Compilation done\n",
      "Linking started\n",
      "Linking done\n",
      "Device build started\n",
      "Device build done\n",
      "Kernel <rng_gen_philox4x32_uniform> was successfully vectorized (4)\n",
      "Done.\n",
      "  warn(text, CompilerWarning)\n"
     ]
    }
   ],
   "source": [
    "dla_colony = lb.DLA_Colony(\n",
    "    ctx_info=ctx_info, velocity_set='D2Q9',\n",
    "    bc_map=bc_map, \n",
    "    D=D, k_list=k_list, m_reproduce_list=m_reproduce_list,\n",
    "    absorbed_mass=absorbed_mass, rho=rho)"
   ]
  },
  {
   "cell_type": "markdown",
   "metadata": {},
   "source": [
    "The code works on both CPUs and GPUs. \n",
    "\n",
    "On my intel i7-3537U CPU running at 2GHz on a relatively old laptop, I obtain about 2 million lattice updates per second (MLUPS). This means that I can run a single iteration of the code (i.e. reproduction, nutrient absorption, etc. etc.) for 2 million lattice sites per second.\n",
    "\n",
    "On a GTX titan black video card, I obtain closer to 200 MLUPS. Using floating point precision, I get about 400 MLUPS."
   ]
  },
  {
   "cell_type": "code",
   "execution_count": 27,
   "metadata": {},
   "outputs": [],
   "source": [
    "#%%prun -s cumtime\n",
    "\n",
    "dla_colony.run(int(10000))"
   ]
  },
  {
   "cell_type": "code",
   "execution_count": 28,
   "metadata": {},
   "outputs": [
    {
     "data": {
      "text/plain": [
       "<matplotlib.image.AxesImage at 0x7ff6e10e5e90>"
      ]
     },
     "execution_count": 28,
     "metadata": {},
     "output_type": "execute_result"
    },
    {
     "data": {
      "image/png": "[encoded data removed]",
      "text/plain": [
       "<matplotlib.figure.Figure at 0x7ff6e109f9d0>"
      ]
     },
     "metadata": {},
     "output_type": "display_data"
    }
   ],
   "source": [
    "from matplotlib import colors\n",
    "\n",
    "cmap = colors.ListedColormap(['white','red', 'green'])\n",
    "\n",
    "pops = dla_colony.get_pop_field()\n",
    "plt.imshow(pops, cmap=cmap)"
   ]
  },
  {
   "cell_type": "markdown",
   "metadata": {},
   "source": [
    "At $R < 0.1$ or so, we get a compact colony that resembles a standard range expansion."
   ]
  },
  {
   "cell_type": "code",
   "execution_count": 31,
   "metadata": {},
   "outputs": [
    {
     "data": {
      "text/plain": [
       "<matplotlib.colorbar.Colorbar at 0x7ff6e027de50>"
      ]
     },
     "execution_count": 31,
     "metadata": {},
     "output_type": "execute_result"
    },
    {
     "data": {
      "image/png": "[encoded data removed]",
      "text/plain": [
       "<matplotlib.figure.Figure at 0x7ff6e0ff1b90>"
      ]
     },
     "metadata": {},
     "output_type": "display_data"
    }
   ],
   "source": [
    "plt.imshow(dla_colony.rho.get())\n",
    "plt.colorbar()"
   ]
  }
 ],
 "metadata": {
  "kernelspec": {
   "display_name": "Python 2",
   "language": "python",
   "name": "python2"
  },
  "language_info": {
   "codemirror_mode": {
    "name": "ipython",
    "version": 2
   },
   "file_extension": ".py",
   "mimetype": "text/x-python",
   "name": "python",
   "nbconvert_exporter": "python",
   "pygments_lexer": "ipython2",
   "version": "2.7.14"
  }
 },
 "nbformat": 4,
 "nbformat_minor": 2
}
