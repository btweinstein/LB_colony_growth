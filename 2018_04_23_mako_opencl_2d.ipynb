{
 "cells": [
  {
   "cell_type": "code",
   "execution_count": 1,
   "metadata": {},
   "outputs": [],
   "source": [
    "%load_ext autoreload\n",
    "%autoreload 2"
   ]
  },
  {
   "cell_type": "code",
   "execution_count": 2,
   "metadata": {},
   "outputs": [
    {
     "name": "stdout",
     "output_type": "stream",
     "text": [
      "Populating the interactive namespace from numpy and matplotlib\n"
     ]
    }
   ],
   "source": [
    "%pylab inline"
   ]
  },
  {
   "cell_type": "code",
   "execution_count": 3,
   "metadata": {},
   "outputs": [],
   "source": [
    "import seaborn as sns"
   ]
  },
  {
   "cell_type": "code",
   "execution_count": 4,
   "metadata": {},
   "outputs": [],
   "source": [
    "sns.set_context('paper', font_scale=2.2)\n",
    "sns.set_style('ticks')"
   ]
  },
  {
   "cell_type": "code",
   "execution_count": 5,
   "metadata": {},
   "outputs": [],
   "source": [
    "import LB_colony_growth.LB_colony_growth as lb\n",
    "\n",
    "import skimage as ski\n",
    "import skimage.draw"
   ]
  },
  {
   "cell_type": "code",
   "execution_count": 72,
   "metadata": {},
   "outputs": [],
   "source": [
    "dimension = 2\n",
    "\n",
    "workgroup_x = 64\n",
    "workgroup_y = 32\n",
    "\n",
    "halo = 1 #ALWAYS 1 for this system.\n",
    "\n",
    "num_alleles = 2\n",
    "\n",
    "nx = 128\n",
    "ny = 128\n",
    "\n",
    "velocity_set = 'D2Q9'"
   ]
  },
  {
   "cell_type": "code",
   "execution_count": 73,
   "metadata": {},
   "outputs": [],
   "source": [
    "ctx_info = {}\n",
    "ctx_info['num_type'] = 'double'\n",
    "\n",
    "ctx_info['nx'] = nx\n",
    "ctx_info['ny'] = ny\n",
    "ctx_info['nz'] = None\n",
    "\n",
    "ctx_info['local_size'] = (workgroup_x, workgroup_y)\n",
    "ctx_info['domain_size'] = (nx, ny)\n",
    "\n",
    "ctx_info['dimension'] = dimension\n",
    "ctx_info['num_alleles'] = num_alleles\n",
    "\n",
    "ctx_info['kernel_arguments'] = {}"
   ]
  },
  {
   "cell_type": "code",
   "execution_count": 74,
   "metadata": {},
   "outputs": [],
   "source": [
    "bc_map = np.zeros((nx + 2*halo, ny + 2*halo), dtype=lb.int_type)\n",
    "\n",
    "bc_map[...] = lb.FLUID_NODE\n",
    "\n",
    "bc_map[0:halo, :] = lb.WALL_NODE\n",
    "bc_map[-halo:, :] = lb.WALL_NODE\n",
    "bc_map[:, 0:halo] = lb.WALL_NODE\n",
    "bc_map[:, -halo:] = lb.WALL_NODE"
   ]
  },
  {
   "cell_type": "code",
   "execution_count": 75,
   "metadata": {},
   "outputs": [],
   "source": [
    "R0 = 10\n",
    "\n",
    "[r, c] = ski.draw.circle(nx/2, ny/2, R0)\n",
    "\n",
    "rand_alleles = np.random.randint(-num_alleles, 0, size=(nx, ny))"
   ]
  },
  {
   "cell_type": "code",
   "execution_count": 76,
   "metadata": {},
   "outputs": [],
   "source": [
    "bc_map[r, c] = rand_alleles[r, c]"
   ]
  },
  {
   "cell_type": "code",
   "execution_count": 77,
   "metadata": {},
   "outputs": [
    {
     "data": {
      "text/plain": [
       "<matplotlib.colorbar.Colorbar at 0x7f8b6421ea90>"
      ]
     },
     "execution_count": 77,
     "metadata": {},
     "output_type": "execute_result"
    },
    {
     "data": {
      "image/png": "[encoded data removed]",
      "text/plain": [
       "<matplotlib.figure.Figure at 0x7f8b64c8f350>"
      ]
     },
     "metadata": {},
     "output_type": "display_data"
    }
   ],
   "source": [
    "plt.imshow(bc_map)\n",
    "plt.colorbar()"
   ]
  },
  {
   "cell_type": "code",
   "execution_count": 78,
   "metadata": {},
   "outputs": [],
   "source": [
    "# Initialize rho...one everywhere, except in the circle where cells were inoculated"
   ]
  },
  {
   "cell_type": "code",
   "execution_count": 79,
   "metadata": {},
   "outputs": [
    {
     "data": {
      "text/plain": [
       "<matplotlib.colorbar.Colorbar at 0x7f8b641723d0>"
      ]
     },
     "execution_count": 79,
     "metadata": {},
     "output_type": "execute_result"
    },
    {
     "data": {
      "image/png": "[encoded data removed]",
      "text/plain": [
       "<matplotlib.figure.Figure at 0x7f8b64330110>"
      ]
     },
     "metadata": {},
     "output_type": "display_data"
    }
   ],
   "source": [
    "rho = np.ones((nx, ny), dtype=lb.num_type)\n",
    "bc_in_domain = bc_map[halo:-halo, halo:-halo]\n",
    "\n",
    "rho[bc_in_domain < 0] = 0\n",
    "\n",
    "plt.imshow(rho)\n",
    "plt.colorbar()"
   ]
  },
  {
   "cell_type": "code",
   "execution_count": 80,
   "metadata": {},
   "outputs": [],
   "source": [
    "m0 = 1.0"
   ]
  },
  {
   "cell_type": "code",
   "execution_count": 81,
   "metadata": {},
   "outputs": [
    {
     "data": {
      "text/plain": [
       "<matplotlib.colorbar.Colorbar at 0x7f8b640acfd0>"
      ]
     },
     "execution_count": 81,
     "metadata": {},
     "output_type": "execute_result"
    },
    {
     "data": {
      "image/png": "[encoded data removed]",
      "text/plain": [
       "<matplotlib.figure.Figure at 0x7f8b641ba510>"
      ]
     },
     "metadata": {},
     "output_type": "display_data"
    }
   ],
   "source": [
    "# Initialize the current amount of absorbed mass randomly\n",
    "\n",
    "absorbed_mass = np.random.rand(nx, ny)\n",
    "bc_in_domain = bc_map[halo:-halo, halo:-halo]\n",
    "\n",
    "absorbed_mass[bc_in_domain >= 0] = 0\n",
    "\n",
    "plt.imshow(absorbed_mass)\n",
    "plt.colorbar()"
   ]
  },
  {
   "cell_type": "code",
   "execution_count": 82,
   "metadata": {},
   "outputs": [],
   "source": [
    "k_list = [10, 10]\n",
    "m_reproduce_list = [m0, m0]\n",
    "velocity_set = 'D2Q9'\n",
    "D = .5 * (1./3.)"
   ]
  },
  {
   "cell_type": "code",
   "execution_count": 83,
   "metadata": {},
   "outputs": [
    {
     "name": "stdout",
     "output_type": "stream",
     "text": [
      "global size: (128, 128)\n",
      "local size: (64, 32)\n",
      "The platforms detected are:\n",
      "---------------------------\n",
      "Intel(R) OpenCL Intel(R) Corporation version: OpenCL 1.2 LINUX\n",
      "The devices detected on platform Intel(R) OpenCL are:\n",
      "---------------------------\n",
      "       Intel(R) Core(TM) i7-3537U CPU @ 2.00GHz [Type: CPU ]\n",
      "Maximum clock Frequency: 2000 MHz\n",
      "Maximum allocable memory size: 2062 MB\n",
      "Maximum work group size 8192\n",
      "Maximum work item dimensions 3\n",
      "Maximum work item size [8192L, 8192L, 8192L]\n",
      "---------------------------\n",
      "This context is associated with  1 devices\n",
      "tau 1.0\n",
      "omega 1.0\n",
      "global_size_bc: (192, 160)\n",
      "Connecting python to the opencl_kernel init_feq...\n",
      "Connecting python to the opencl_kernel collide_and_propagate...\n",
      "Creating local memory of double type...\n",
      "Creating local memory of int type...\n",
      "Connecting python to the opencl_kernel update_after_streaming...\n",
      "Connecting python to the opencl_kernel reproduce...\n",
      "Creating local memory of int type...\n",
      "Connecting python to the opencl_kernel copy_streamed_onto_f...\n"
     ]
    },
    {
     "name": "stderr",
     "output_type": "stream",
     "text": [
      "/home/bryan/anaconda2/lib/python2.7/site-packages/pyopencl/cffi_cl.py:1516: CompilerWarning: From-source build succeeded, but resulted in non-empty logs:\n",
      "Build on <pyopencl.Device 'Intel(R) Core(TM) i7-3537U CPU @ 2.00GHz' on 'Intel(R) OpenCL' at 0x7f8bbfa13f68> succeeded, but said:\n",
      "\n",
      "Compilation started\n",
      "Compilation done\n",
      "Linking started\n",
      "Linking done\n",
      "Device build started\n",
      "Device build done\n",
      "Kernel <collide_and_propagate> was not vectorized\n",
      "Kernel <update_after_streaming> was successfully vectorized (4)\n",
      "Kernel <init_feq> was successfully vectorized (4)\n",
      "Kernel <reproduce> was not vectorized\n",
      "Kernel <copy_streamed_onto_f> was successfully vectorized (4)\n",
      "Done.\n",
      "  warn(text, CompilerWarning)\n"
     ]
    }
   ],
   "source": [
    "dla_colony = lb.DLA_Colony(\n",
    "    ctx_info=ctx_info, velocity_set='D2Q9',\n",
    "    bc_map=bc_map, \n",
    "    D=D, k_list=k_list, m_reproduce_list=m_reproduce_list,\n",
    "    absorbed_mass=absorbed_mass, rho=rho)"
   ]
  },
  {
   "cell_type": "code",
   "execution_count": 84,
   "metadata": {
    "scrolled": false
   },
   "outputs": [],
   "source": [
    "# plt.imshow(dla_colony.f.get()[:, :, 1], interpolation='None')\n",
    "# plt.colorbar()"
   ]
  },
  {
   "cell_type": "code",
   "execution_count": 85,
   "metadata": {},
   "outputs": [],
   "source": [
    "# plt.imshow(dla_colony.rho.get(), interpolation=None)\n",
    "# plt.colorbar()"
   ]
  },
  {
   "cell_type": "code",
   "execution_count": 86,
   "metadata": {},
   "outputs": [],
   "source": [
    "# plt.imshow(dla_colony.feq.get()[:, :, 3])\n",
    "# plt.colorbar()"
   ]
  },
  {
   "cell_type": "code",
   "execution_count": 87,
   "metadata": {},
   "outputs": [
    {
     "data": {
      "text/plain": [
       "<matplotlib.colorbar.Colorbar at 0x7f8b6483cdd0>"
      ]
     },
     "execution_count": 87,
     "metadata": {},
     "output_type": "execute_result"
    },
    {
     "data": {
      "image/png": "[encoded data removed]",
      "text/plain": [
       "<matplotlib.figure.Figure at 0x7f8b640bebd0>"
      ]
     },
     "metadata": {},
     "output_type": "display_data"
    },
    {
     "data": {
      "image/png": "[encoded data removed]",
      "text/plain": [
       "<matplotlib.figure.Figure at 0x7f8b642a1f50>"
      ]
     },
     "metadata": {},
     "output_type": "display_data"
    }
   ],
   "source": [
    "plt.imshow(dla_colony.f_streamed.get()[:, :, 1])\n",
    "plt.colorbar()\n",
    "plt.figure()\n",
    "plt.imshow(dla_colony.f_streamed.get()[:, :, 0])\n",
    "plt.colorbar()"
   ]
  },
  {
   "cell_type": "code",
   "execution_count": 88,
   "metadata": {},
   "outputs": [],
   "source": [
    "dla_colony.run(100)"
   ]
  },
  {
   "cell_type": "code",
   "execution_count": null,
   "metadata": {},
   "outputs": [
    {
     "data": {
      "text/plain": [
       "<matplotlib.colorbar.Colorbar at 0x7f8b5ffab050>"
      ]
     },
     "execution_count": 89,
     "metadata": {},
     "output_type": "execute_result"
    }
   ],
   "source": [
    "plt.imshow(dla_colony.rho.get())\n",
    "plt.colorbar()"
   ]
  },
  {
   "cell_type": "code",
   "execution_count": 54,
   "metadata": {},
   "outputs": [
    {
     "data": {
      "text/plain": [
       "150.54184576170013"
      ]
     },
     "execution_count": 54,
     "metadata": {},
     "output_type": "execute_result"
    }
   ],
   "source": [
    "dla_colony.absorbed_mass.get().sum()"
   ]
  },
  {
   "cell_type": "code",
   "execution_count": 55,
   "metadata": {},
   "outputs": [
    {
     "data": {
      "text/plain": [
       "<matplotlib.colorbar.Colorbar at 0x7f8b651dba50>"
      ]
     },
     "execution_count": 55,
     "metadata": {},
     "output_type": "execute_result"
    },
    {
     "data": {
      "image/png": "[encoded data removed]",
      "text/plain": [
       "<matplotlib.figure.Figure at 0x7f8b64a5bc90>"
      ]
     },
     "metadata": {},
     "output_type": "display_data"
    }
   ],
   "source": [
    "plt.imshow(dla_colony.absorbed_mass.get())\n",
    "plt.colorbar()"
   ]
  },
  {
   "cell_type": "code",
   "execution_count": 71,
   "metadata": {},
   "outputs": [
    {
     "data": {
      "text/plain": [
       "<matplotlib.colorbar.Colorbar at 0x7f8b642dd950>"
      ]
     },
     "execution_count": 71,
     "metadata": {},
     "output_type": "execute_result"
    },
    {
     "data": {
      "image/png": "[encoded data removed]",
      "text/plain": [
       "<matplotlib.figure.Figure at 0x7f8b64ed0dd0>"
      ]
     },
     "metadata": {},
     "output_type": "display_data"
    }
   ],
   "source": [
    "plt.imshow(dla_colony.f.get()[nx/2-15:nx/2 + 20, ny/2-15:ny/2+15, 8])\n",
    "plt.colorbar()"
   ]
  },
  {
   "cell_type": "code",
   "execution_count": 57,
   "metadata": {},
   "outputs": [],
   "source": [
    "# dla_colony.update_after_streaming.run().wait()"
   ]
  },
  {
   "cell_type": "markdown",
   "metadata": {},
   "source": [
    "Weird stripes appear to be appearing in my solutions, IDK what's up with that. We will have to troubleshoot..."
   ]
  },
  {
   "cell_type": "code",
   "execution_count": 59,
   "metadata": {},
   "outputs": [],
   "source": [
    "# plt.plot(dla_colony.rho.get()[nx/2, :])"
   ]
  },
  {
   "cell_type": "code",
   "execution_count": 60,
   "metadata": {},
   "outputs": [
    {
     "data": {
      "text/plain": [
       "[<matplotlib.lines.Line2D at 0x7f8b74431d50>]"
      ]
     },
     "execution_count": 60,
     "metadata": {},
     "output_type": "execute_result"
    },
    {
     "data": {
      "image/png": "[encoded data removed]",
      "text/plain": [
       "<matplotlib.figure.Figure at 0x7f8b744e3b90>"
      ]
     },
     "metadata": {},
     "output_type": "display_data"
    }
   ],
   "source": [
    "plt.plot(dla_colony.f_streamed.get()[nx/2, :, 8])"
   ]
  },
  {
   "cell_type": "markdown",
   "metadata": {},
   "source": [
    "Why is there a strange bump? To me, it looks like everything is shifted by a lattice site...which is really really bizarre"
   ]
  },
  {
   "cell_type": "code",
   "execution_count": null,
   "metadata": {},
   "outputs": [],
   "source": []
  }
 ],
 "metadata": {
  "kernelspec": {
   "display_name": "Python 2",
   "language": "python",
   "name": "python2"
  },
  "language_info": {
   "codemirror_mode": {
    "name": "ipython",
    "version": 2
   },
   "file_extension": ".py",
   "mimetype": "text/x-python",
   "name": "python",
   "nbconvert_exporter": "python",
   "pygments_lexer": "ipython2",
   "version": "2.7.14"
  }
 },
 "nbformat": 4,
 "nbformat_minor": 2
}
