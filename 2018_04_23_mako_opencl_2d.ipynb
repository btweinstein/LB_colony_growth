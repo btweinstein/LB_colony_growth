{
 "cells": [
  {
   "cell_type": "code",
   "execution_count": 1,
   "metadata": {},
   "outputs": [],
   "source": [
    "%load_ext autoreload\n",
    "%autoreload 2"
   ]
  },
  {
   "cell_type": "code",
   "execution_count": 2,
   "metadata": {},
   "outputs": [
    {
     "name": "stdout",
     "output_type": "stream",
     "text": [
      "Populating the interactive namespace from numpy and matplotlib\n"
     ]
    }
   ],
   "source": [
    "%pylab inline"
   ]
  },
  {
   "cell_type": "code",
   "execution_count": 3,
   "metadata": {
    "collapsed": true
   },
   "outputs": [],
   "source": [
    "import seaborn as sns"
   ]
  },
  {
   "cell_type": "code",
   "execution_count": 4,
   "metadata": {
    "collapsed": true
   },
   "outputs": [],
   "source": [
    "sns.set_context('paper', font_scale=2.2)\n",
    "sns.set_style('ticks')"
   ]
  },
  {
   "cell_type": "code",
   "execution_count": 97,
   "metadata": {
    "collapsed": true
   },
   "outputs": [],
   "source": [
    "import LB_colony_growth.LB_colony_growth as lb\n",
    "\n",
    "import skimage as ski\n",
    "import skimage.draw"
   ]
  },
  {
   "cell_type": "code",
   "execution_count": 125,
   "metadata": {
    "collapsed": true
   },
   "outputs": [],
   "source": [
    "dimension = 2\n",
    "\n",
    "workgroup_x = 32\n",
    "workgroup_y = 16\n",
    "\n",
    "halo = 1 #ALWAYS 1 for this system.\n",
    "\n",
    "num_alleles = 2\n",
    "\n",
    "nx = 128\n",
    "ny = 128\n",
    "\n",
    "velocity_set = 'D2Q9'"
   ]
  },
  {
   "cell_type": "code",
   "execution_count": 126,
   "metadata": {
    "collapsed": true
   },
   "outputs": [],
   "source": [
    "ctx_info = {}\n",
    "ctx_info['num_type'] = 'double'\n",
    "\n",
    "ctx_info['nx'] = nx\n",
    "ctx_info['ny'] = ny\n",
    "ctx_info['nz'] = None\n",
    "\n",
    "ctx_info['local_size'] = (workgroup_x, workgroup_y)\n",
    "ctx_info['domain_size'] = (nx, ny)\n",
    "\n",
    "ctx_info['dimension'] = dimension\n",
    "ctx_info['num_alleles'] = num_alleles\n",
    "\n",
    "ctx_info['kernel_arguments'] = {}"
   ]
  },
  {
   "cell_type": "code",
   "execution_count": 127,
   "metadata": {
    "collapsed": true
   },
   "outputs": [],
   "source": [
    "bc_map = np.zeros((nx + 2*halo, ny + 2*halo), dtype=lb.int_type)\n",
    "\n",
    "bc_map[...] = lb.FLUID_NODE\n",
    "\n",
    "bc_map[0:halo, :] = lb.WALL_NODE\n",
    "bc_map[-halo:, :] = lb.WALL_NODE\n",
    "bc_map[:, 0:halo] = lb.WALL_NODE\n",
    "bc_map[:, -halo:] = lb.WALL_NODE"
   ]
  },
  {
   "cell_type": "code",
   "execution_count": 128,
   "metadata": {
    "collapsed": true
   },
   "outputs": [],
   "source": [
    "R0 = 10\n",
    "\n",
    "[r, c] = ski.draw.circle(nx/2, ny/2, R0)\n",
    "\n",
    "rand_alleles = np.random.randint(-num_alleles, 0, size=(nx, ny))"
   ]
  },
  {
   "cell_type": "code",
   "execution_count": 129,
   "metadata": {
    "collapsed": true
   },
   "outputs": [],
   "source": [
    "bc_map[r, c] = rand_alleles[r, c]"
   ]
  },
  {
   "cell_type": "code",
   "execution_count": 130,
   "metadata": {},
   "outputs": [
    {
     "data": {
      "text/plain": [
       "<matplotlib.colorbar.Colorbar at 0x7f5fe42b55d0>"
      ]
     },
     "execution_count": 130,
     "metadata": {},
     "output_type": "execute_result"
    },
    {
     "data": {
      "image/png": "[encoded data removed]",
      "text/plain": [
       "<matplotlib.figure.Figure at 0x7f60101da250>"
      ]
     },
     "metadata": {},
     "output_type": "display_data"
    }
   ],
   "source": [
    "plt.imshow(bc_map)\n",
    "plt.colorbar()"
   ]
  },
  {
   "cell_type": "code",
   "execution_count": 131,
   "metadata": {
    "collapsed": true
   },
   "outputs": [],
   "source": [
    "# Initialize rho...one everywhere, except in the circle where cells were inoculated"
   ]
  },
  {
   "cell_type": "code",
   "execution_count": 132,
   "metadata": {},
   "outputs": [
    {
     "data": {
      "text/plain": [
       "<matplotlib.colorbar.Colorbar at 0x7f5fe43f22d0>"
      ]
     },
     "execution_count": 132,
     "metadata": {},
     "output_type": "execute_result"
    },
    {
     "data": {
      "image/png": "[encoded data removed]",
      "text/plain": [
       "<matplotlib.figure.Figure at 0x7f60105f0690>"
      ]
     },
     "metadata": {},
     "output_type": "display_data"
    }
   ],
   "source": [
    "rho = np.ones((nx, ny), dtype=lb.num_type)\n",
    "bc_in_domain = bc_map[halo:-halo, halo:-halo]\n",
    "\n",
    "rho[bc_in_domain < 0] = 0\n",
    "\n",
    "plt.imshow(rho)\n",
    "plt.colorbar()"
   ]
  },
  {
   "cell_type": "code",
   "execution_count": 133,
   "metadata": {
    "collapsed": true
   },
   "outputs": [],
   "source": [
    "m0 = 1.0"
   ]
  },
  {
   "cell_type": "code",
   "execution_count": 134,
   "metadata": {},
   "outputs": [
    {
     "data": {
      "text/plain": [
       "<matplotlib.colorbar.Colorbar at 0x7f5fe426be50>"
      ]
     },
     "execution_count": 134,
     "metadata": {},
     "output_type": "execute_result"
    },
    {
     "data": {
      "image/png": "[encoded data removed]",
      "text/plain": [
       "<matplotlib.figure.Figure at 0x7f6010408cd0>"
      ]
     },
     "metadata": {},
     "output_type": "display_data"
    }
   ],
   "source": [
    "# Initialize the current amount of absorbed mass randomly\n",
    "\n",
    "absorbed_mass = np.random.rand(nx, ny)\n",
    "bc_in_domain = bc_map[halo:-halo, halo:-halo]\n",
    "\n",
    "absorbed_mass[bc_in_domain >= 0] = 0\n",
    "\n",
    "plt.imshow(absorbed_mass)\n",
    "plt.colorbar()"
   ]
  },
  {
   "cell_type": "code",
   "execution_count": 135,
   "metadata": {
    "collapsed": true
   },
   "outputs": [],
   "source": [
    "k_list = [.01, .01]\n",
    "m_reproduce_list = [m0, m0]\n",
    "velocity_set = 'D2Q9'\n",
    "D = .5 * (1./3.)"
   ]
  },
  {
   "cell_type": "code",
   "execution_count": 136,
   "metadata": {},
   "outputs": [
    {
     "name": "stdout",
     "output_type": "stream",
     "text": [
      "global size: (128, 128)\n",
      "local size: (32, 16)\n",
      "The platforms detected are:\n",
      "---------------------------\n",
      "NVIDIA CUDA NVIDIA Corporation version: OpenCL 1.2 CUDA 9.0.282\n",
      "The devices detected on platform NVIDIA CUDA are:\n",
      "---------------------------\n",
      "GeForce GTX TITAN Black [Type: GPU ]\n",
      "Maximum clock Frequency: 980 MHz\n",
      "Maximum allocable memory size: 1594 MB\n",
      "Maximum work group size 1024\n",
      "Maximum work item dimensions 3\n",
      "Maximum work item size [1024L, 1024L, 64L]\n",
      "---------------------------\n",
      "This context is associated with  1 devices\n",
      "tau 0.9999999999999998\n",
      "omega 1.0000000000000002\n",
      "global_size_bc: (160, 144)\n",
      "Connecting python to the opencl_kernel init_feq...\n"
     ]
    },
    {
     "name": "stderr",
     "output_type": "stream",
     "text": [
      "LB_colony_growth/LB_colony_growth.py:530: UserWarning: Received OpenCL source code in Unicode, should be ASCII string. Attempting conversion.\n",
      "  self.kernels = cl.Program(self.context, buf.getvalue()).build(options='')\n"
     ]
    }
   ],
   "source": [
    "dla_colony = lb.DLA_Colony(\n",
    "    ctx_info=ctx_info, velocity_set='D2Q9',\n",
    "    bc_map=bc_map, \n",
    "    D=D, k_list=k_list, m_reproduce_list=m_reproduce_list,\n",
    "    absorbed_mass=absorbed_mass)"
   ]
  },
  {
   "cell_type": "code",
   "execution_count": 137,
   "metadata": {},
   "outputs": [
    {
     "data": {
      "text/plain": [
       "'double'"
      ]
     },
     "execution_count": 137,
     "metadata": {},
     "output_type": "execute_result"
    }
   ],
   "source": [
    "dla_colony.ctx_info['num_type']"
   ]
  },
  {
   "cell_type": "code",
   "execution_count": 138,
   "metadata": {},
   "outputs": [
    {
     "name": "stdout",
     "output_type": "stream",
     "text": [
      "int\n",
      "what the fuck 2\n",
      "debug\n",
      "4\n",
      "612\n"
     ]
    },
    {
     "data": {
      "text/plain": [
       "<pyopencl.cffi_cl.LocalMemory at 0x7f5fe4295d40>"
      ]
     },
     "execution_count": 138,
     "metadata": {},
     "output_type": "execute_result"
    }
   ],
   "source": [
    "dla_colony.kernel_args['local_mem_int']()"
   ]
  },
  {
   "cell_type": "code",
   "execution_count": 75,
   "metadata": {},
   "outputs": [
    {
     "data": {
      "text/plain": [
       "array([[[ 0.25251241,  2.03035703,  0.28634894],\n",
       "        [-0.14720688, -0.32646615, -1.32943847]]])"
      ]
     },
     "execution_count": 75,
     "metadata": {},
     "output_type": "execute_result"
    }
   ],
   "source": [
    "np.random.randn(*(1, 2, 3))"
   ]
  },
  {
   "cell_type": "code",
   "execution_count": 14,
   "metadata": {},
   "outputs": [
    {
     "data": {
      "text/plain": [
       "{'D': 0.16666666666666666,\n",
       " 'bc_map': <pyopencl.cffi_cl.Buffer at 0x7ff25d0241d0>,\n",
       " 'bc_map_streamed': <pyopencl.cffi_cl.Buffer at 0x7ff25d024290>,\n",
       " 'buf_nx': 34,\n",
       " 'buf_ny': 18,\n",
       " 'buf_nz': None,\n",
       " 'c_mag': <pyopencl.cffi_cl.Buffer at 0x7ff25cfeba90>,\n",
       " 'c_vec': <pyopencl.cffi_cl.Buffer at 0x7ff2692fb310>,\n",
       " 'cs': 0.57735026918962584,\n",
       " 'f': <pyopencl.cffi_cl.Buffer at 0x7ff25d024410>,\n",
       " 'f_streamed': <pyopencl.cffi_cl.Buffer at 0x7ff25d024490>,\n",
       " 'feq': <pyopencl.cffi_cl.Buffer at 0x7ff25d024390>,\n",
       " 'halo': 1,\n",
       " 'k_list': <pyopencl.cffi_cl.Buffer at 0x7ff260f65590>,\n",
       " 'm_reproduce_list': <pyopencl.cffi_cl.Buffer at 0x7ff260f65610>,\n",
       " 'nx_bc': 130,\n",
       " 'ny_bc': 130,\n",
       " 'nz_bc': None,\n",
       " 'omega': 1.0000000000000002,\n",
       " 'reflect_index': <pyopencl.cffi_cl.Buffer at 0x7ff25cfeba50>,\n",
       " 'rho': <pyopencl.cffi_cl.Buffer at 0x7ff25d024210>,\n",
       " 'slip_index': <pyopencl.cffi_cl.Buffer at 0x7ff25d0240d0>,\n",
       " 'tau': 0.99999999999999978}"
      ]
     },
     "execution_count": 14,
     "metadata": {},
     "output_type": "execute_result"
    }
   ],
   "source": [
    "dla_colony.kernel_args"
   ]
  },
  {
   "cell_type": "code",
   "execution_count": 24,
   "metadata": {
    "collapsed": true
   },
   "outputs": [],
   "source": [
    "flerp = dla_colony.ctx_info['kernel_arguments']['collide_and_propagate']"
   ]
  },
  {
   "cell_type": "code",
   "execution_count": 27,
   "metadata": {},
   "outputs": [
    {
     "data": {
      "text/plain": [
       "[['bc_map', '__global __read_only int *bc_map_global'],\n",
       " ['nx_bc', 'const int nx_bc'],\n",
       " ['ny_bc', 'const int ny_bc'],\n",
       " ['f', '__global double *f_global'],\n",
       " ['f_streamed', '__global double *f_streamed_global'],\n",
       " ['feq', '__global __read_only double *feq_global'],\n",
       " ['rho', '__global double *rho_global'],\n",
       " ['absorbed_mass', '__global double *absorbed_mass_global'],\n",
       " ['local_mem_num', '__local double *rho_local'],\n",
       " ['local_mem_int', '__local double *bc_map_local'],\n",
       " ['buf_nx', 'const int buf_nx'],\n",
       " ['buf_ny', 'const int buf_ny'],\n",
       " ['k_list', '__constant double *k'],\n",
       " ['D', 'const double D'],\n",
       " ['num_jumpers', 'const int num_jumpers'],\n",
       " ['omega', 'const double omega'],\n",
       " ['c_vec', '__constant int *c_vec'],\n",
       " ['c_mag', '__constant double *c_mag'],\n",
       " ['w', '__constant double *w'],\n",
       " ['reflect_list', '__constant double *reflect_list']]"
      ]
     },
     "execution_count": 27,
     "metadata": {},
     "output_type": "execute_result"
    }
   ],
   "source": [
    "flerp"
   ]
  },
  {
   "cell_type": "code",
   "execution_count": 26,
   "metadata": {},
   "outputs": [
    {
     "data": {
      "text/plain": [
       "['bc_map',\n",
       " 'nx_bc',\n",
       " 'ny_bc',\n",
       " 'f',\n",
       " 'f_streamed',\n",
       " 'feq',\n",
       " 'rho',\n",
       " 'absorbed_mass',\n",
       " 'local_mem_num',\n",
       " 'local_mem_int',\n",
       " 'buf_nx',\n",
       " 'buf_ny',\n",
       " 'k_list',\n",
       " 'D',\n",
       " 'num_jumpers',\n",
       " 'omega',\n",
       " 'c_vec',\n",
       " 'c_mag',\n",
       " 'w',\n",
       " 'reflect_list']"
      ]
     },
     "execution_count": 26,
     "metadata": {},
     "output_type": "execute_result"
    }
   ],
   "source": [
    "[z[0] for z in flerp]"
   ]
  },
  {
   "cell_type": "code",
   "execution_count": null,
   "metadata": {
    "collapsed": true
   },
   "outputs": [],
   "source": []
  }
 ],
 "metadata": {
  "kernelspec": {
   "display_name": "Python 2",
   "language": "python",
   "name": "python2"
  },
  "language_info": {
   "codemirror_mode": {
    "name": "ipython",
    "version": 2
   },
   "file_extension": ".py",
   "mimetype": "text/x-python",
   "name": "python",
   "nbconvert_exporter": "python",
   "pygments_lexer": "ipython2",
   "version": "2.7.14"
  }
 },
 "nbformat": 4,
 "nbformat_minor": 2
}
