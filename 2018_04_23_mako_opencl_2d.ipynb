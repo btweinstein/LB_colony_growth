{
 "cells": [
  {
   "cell_type": "code",
   "execution_count": 216,
   "metadata": {},
   "outputs": [
    {
     "name": "stdout",
     "output_type": "stream",
     "text": [
      "The autoreload extension is already loaded. To reload it, use:\n",
      "  %reload_ext autoreload\n"
     ]
    }
   ],
   "source": [
    "%load_ext autoreload\n",
    "%autoreload 2"
   ]
  },
  {
   "cell_type": "code",
   "execution_count": 217,
   "metadata": {},
   "outputs": [
    {
     "name": "stdout",
     "output_type": "stream",
     "text": [
      "Populating the interactive namespace from numpy and matplotlib\n"
     ]
    }
   ],
   "source": [
    "%pylab inline"
   ]
  },
  {
   "cell_type": "code",
   "execution_count": 218,
   "metadata": {
    "collapsed": true
   },
   "outputs": [],
   "source": [
    "import seaborn as sns"
   ]
  },
  {
   "cell_type": "code",
   "execution_count": 219,
   "metadata": {
    "collapsed": true
   },
   "outputs": [],
   "source": [
    "sns.set_context('paper', font_scale=2.2)\n",
    "sns.set_style('ticks')"
   ]
  },
  {
   "cell_type": "code",
   "execution_count": 220,
   "metadata": {
    "collapsed": true
   },
   "outputs": [],
   "source": [
    "import LB_colony_growth.LB_colony_growth as lb\n",
    "\n",
    "import skimage as ski\n",
    "import skimage.draw"
   ]
  },
  {
   "cell_type": "code",
   "execution_count": 221,
   "metadata": {
    "collapsed": true
   },
   "outputs": [],
   "source": [
    "dimension = 2\n",
    "\n",
    "workgroup_x = 32\n",
    "workgroup_y = 16\n",
    "\n",
    "halo = 1 #ALWAYS 1 for this system.\n",
    "\n",
    "num_alleles = 2\n",
    "\n",
    "nx = 128\n",
    "ny = 128\n",
    "\n",
    "velocity_set = 'D2Q9'"
   ]
  },
  {
   "cell_type": "code",
   "execution_count": 222,
   "metadata": {
    "collapsed": true
   },
   "outputs": [],
   "source": [
    "ctx_info = {}\n",
    "ctx_info['num_type'] = 'double'\n",
    "\n",
    "ctx_info['nx'] = nx\n",
    "ctx_info['ny'] = ny\n",
    "ctx_info['nz'] = None\n",
    "\n",
    "ctx_info['local_size'] = (workgroup_x, workgroup_y)\n",
    "ctx_info['domain_size'] = (nx, ny)\n",
    "\n",
    "ctx_info['dimension'] = dimension\n",
    "ctx_info['num_alleles'] = num_alleles\n",
    "\n",
    "ctx_info['kernel_arguments'] = {}"
   ]
  },
  {
   "cell_type": "code",
   "execution_count": 223,
   "metadata": {
    "collapsed": true
   },
   "outputs": [],
   "source": [
    "bc_map = np.zeros((nx + 2*halo, ny + 2*halo), dtype=lb.int_type)\n",
    "\n",
    "bc_map[...] = lb.FLUID_NODE\n",
    "\n",
    "bc_map[0:halo, :] = lb.WALL_NODE\n",
    "bc_map[-halo:, :] = lb.WALL_NODE\n",
    "bc_map[:, 0:halo] = lb.WALL_NODE\n",
    "bc_map[:, -halo:] = lb.WALL_NODE"
   ]
  },
  {
   "cell_type": "code",
   "execution_count": 224,
   "metadata": {
    "collapsed": true
   },
   "outputs": [],
   "source": [
    "R0 = 10\n",
    "\n",
    "[r, c] = ski.draw.circle(nx/2, ny/2, R0)\n",
    "\n",
    "rand_alleles = np.random.randint(-num_alleles, 0, size=(nx, ny))"
   ]
  },
  {
   "cell_type": "code",
   "execution_count": 225,
   "metadata": {
    "collapsed": true
   },
   "outputs": [],
   "source": [
    "bc_map[r, c] = rand_alleles[r, c]"
   ]
  },
  {
   "cell_type": "code",
   "execution_count": 248,
   "metadata": {},
   "outputs": [
    {
     "data": {
      "text/plain": [
       "<matplotlib.colorbar.Colorbar at 0x7f5fd0181c90>"
      ]
     },
     "execution_count": 248,
     "metadata": {},
     "output_type": "execute_result"
    },
    {
     "data": {
      "image/png": "[encoded data removed]",
      "text/plain": [
       "<matplotlib.figure.Figure at 0x7f5fd05f9850>"
      ]
     },
     "metadata": {},
     "output_type": "display_data"
    }
   ],
   "source": [
    "plt.imshow(bc_map)\n",
    "plt.colorbar()"
   ]
  },
  {
   "cell_type": "code",
   "execution_count": 249,
   "metadata": {
    "collapsed": true
   },
   "outputs": [],
   "source": [
    "# Initialize rho...one everywhere, except in the circle where cells were inoculated"
   ]
  },
  {
   "cell_type": "code",
   "execution_count": 250,
   "metadata": {},
   "outputs": [
    {
     "data": {
      "text/plain": [
       "<matplotlib.colorbar.Colorbar at 0x7f5fd01648d0>"
      ]
     },
     "execution_count": 250,
     "metadata": {},
     "output_type": "execute_result"
    },
    {
     "data": {
      "image/png": "[encoded data removed]",
      "text/plain": [
       "<matplotlib.figure.Figure at 0x7f5fdc10b510>"
      ]
     },
     "metadata": {},
     "output_type": "display_data"
    }
   ],
   "source": [
    "rho = np.ones((nx, ny), dtype=lb.num_type)\n",
    "bc_in_domain = bc_map[halo:-halo, halo:-halo]\n",
    "\n",
    "rho[bc_in_domain < 0] = 0\n",
    "\n",
    "plt.imshow(rho)\n",
    "plt.colorbar()"
   ]
  },
  {
   "cell_type": "code",
   "execution_count": 251,
   "metadata": {
    "collapsed": true
   },
   "outputs": [],
   "source": [
    "m0 = 1.0"
   ]
  },
  {
   "cell_type": "code",
   "execution_count": 252,
   "metadata": {},
   "outputs": [
    {
     "data": {
      "text/plain": [
       "<matplotlib.colorbar.Colorbar at 0x7f5fd02ed1d0>"
      ]
     },
     "execution_count": 252,
     "metadata": {},
     "output_type": "execute_result"
    },
    {
     "data": {
      "image/png": "[encoded data removed]",
      "text/plain": [
       "<matplotlib.figure.Figure at 0x7f5fd024cd50>"
      ]
     },
     "metadata": {},
     "output_type": "display_data"
    }
   ],
   "source": [
    "# Initialize the current amount of absorbed mass randomly\n",
    "\n",
    "absorbed_mass = np.random.rand(nx, ny)\n",
    "bc_in_domain = bc_map[halo:-halo, halo:-halo]\n",
    "\n",
    "absorbed_mass[bc_in_domain >= 0] = 0\n",
    "\n",
    "plt.imshow(absorbed_mass)\n",
    "plt.colorbar()"
   ]
  },
  {
   "cell_type": "code",
   "execution_count": 253,
   "metadata": {
    "collapsed": true
   },
   "outputs": [],
   "source": [
    "k_list = [.01, .01]\n",
    "m_reproduce_list = [m0, m0]\n",
    "velocity_set = 'D2Q9'\n",
    "D = .5 * (1./3.)"
   ]
  },
  {
   "cell_type": "code",
   "execution_count": 254,
   "metadata": {},
   "outputs": [
    {
     "name": "stdout",
     "output_type": "stream",
     "text": [
      "global size: (128, 128)\n",
      "local size: (32, 16)\n",
      "The platforms detected are:\n",
      "---------------------------\n",
      "NVIDIA CUDA NVIDIA Corporation version: OpenCL 1.2 CUDA 9.0.282\n",
      "The devices detected on platform NVIDIA CUDA are:\n",
      "---------------------------\n",
      "GeForce GTX TITAN Black [Type: GPU ]\n",
      "Maximum clock Frequency: 980 MHz\n",
      "Maximum allocable memory size: 1594 MB\n",
      "Maximum work group size 1024\n",
      "Maximum work item dimensions 3\n",
      "Maximum work item size [1024L, 1024L, 64L]\n",
      "---------------------------\n",
      "This context is associated with  1 devices\n",
      "tau 0.9999999999999998\n",
      "omega 1.0000000000000002\n",
      "global_size_bc: (160, 144)\n",
      "Connecting python to the opencl_kernel init_feq...\n",
      "Connecting python to the opencl_kernel collide_and_propagate...\n",
      "Creating local memory of double type...\n",
      "Creating local memory of int type...\n",
      "Connecting python to the opencl_kernel update_after_streaming...\n",
      "Connecting python to the opencl_kernel reproduce...\n",
      "Creating local memory of int type...\n"
     ]
    }
   ],
   "source": [
    "dla_colony = lb.DLA_Colony(\n",
    "    ctx_info=ctx_info, velocity_set='D2Q9',\n",
    "    bc_map=bc_map, \n",
    "    D=D, k_list=k_list, m_reproduce_list=m_reproduce_list,\n",
    "    absorbed_mass=absorbed_mass)"
   ]
  },
  {
   "cell_type": "code",
   "execution_count": 257,
   "metadata": {},
   "outputs": [
    {
     "name": "stdout",
     "output_type": "stream",
     "text": [
      "(128, 128, 9)\n"
     ]
    }
   ],
   "source": [
    "feq = dla_colony.feq.get()\n",
    "print feq.shape"
   ]
  },
  {
   "cell_type": "code",
   "execution_count": 262,
   "metadata": {},
   "outputs": [
    {
     "data": {
      "text/plain": [
       "array([[nan,  0.,  0., ...,  0.,  0.,  0.],\n",
       "       [ 0.,  0.,  0., ...,  0.,  0.,  0.],\n",
       "       [ 0.,  0.,  0., ...,  0.,  0.,  0.],\n",
       "       ...,\n",
       "       [ 0.,  0.,  0., ...,  0.,  0.,  0.],\n",
       "       [ 0.,  0.,  0., ...,  0.,  0.,  0.],\n",
       "       [ 0.,  0.,  0., ...,  0.,  0.,  0.]])"
      ]
     },
     "execution_count": 262,
     "metadata": {},
     "output_type": "execute_result"
    }
   ],
   "source": [
    "feq[:, :, 4]"
   ]
  },
  {
   "cell_type": "code",
   "execution_count": null,
   "metadata": {
    "collapsed": true
   },
   "outputs": [],
   "source": []
  }
 ],
 "metadata": {
  "kernelspec": {
   "display_name": "Python 2",
   "language": "python",
   "name": "python2"
  },
  "language_info": {
   "codemirror_mode": {
    "name": "ipython",
    "version": 2
   },
   "file_extension": ".py",
   "mimetype": "text/x-python",
   "name": "python",
   "nbconvert_exporter": "python",
   "pygments_lexer": "ipython2",
   "version": "2.7.14"
  }
 },
 "nbformat": 4,
 "nbformat_minor": 2
}
