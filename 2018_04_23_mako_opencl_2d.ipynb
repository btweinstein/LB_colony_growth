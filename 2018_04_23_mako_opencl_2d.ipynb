{
 "cells": [
  {
   "cell_type": "code",
   "execution_count": 1,
   "metadata": {},
   "outputs": [],
   "source": [
    "%load_ext autoreload\n",
    "%autoreload 2"
   ]
  },
  {
   "cell_type": "code",
   "execution_count": 2,
   "metadata": {},
   "outputs": [
    {
     "name": "stdout",
     "output_type": "stream",
     "text": [
      "Populating the interactive namespace from numpy and matplotlib\n"
     ]
    }
   ],
   "source": [
    "%pylab inline"
   ]
  },
  {
   "cell_type": "code",
   "execution_count": 3,
   "metadata": {},
   "outputs": [],
   "source": [
    "import seaborn as sns"
   ]
  },
  {
   "cell_type": "code",
   "execution_count": 4,
   "metadata": {},
   "outputs": [],
   "source": [
    "sns.set_context('paper', font_scale=2.2)\n",
    "sns.set_style('ticks')"
   ]
  },
  {
   "cell_type": "code",
   "execution_count": 5,
   "metadata": {},
   "outputs": [],
   "source": [
    "import LB_colony_growth.LB_colony_growth as lb\n",
    "\n",
    "import skimage as ski\n",
    "import skimage.draw"
   ]
  },
  {
   "cell_type": "code",
   "execution_count": 6,
   "metadata": {},
   "outputs": [],
   "source": [
    "dimension = 2\n",
    "\n",
    "workgroup_x = 32\n",
    "workgroup_y = 16\n",
    "\n",
    "halo = 1 #ALWAYS 1 for this system.\n",
    "\n",
    "num_alleles = 2\n",
    "\n",
    "nx = 128\n",
    "ny = 128\n",
    "\n",
    "velocity_set = 'D2Q9'"
   ]
  },
  {
   "cell_type": "code",
   "execution_count": 7,
   "metadata": {},
   "outputs": [],
   "source": [
    "ctx_info = {}\n",
    "ctx_info['num_type'] = 'double'\n",
    "\n",
    "ctx_info['nx'] = nx\n",
    "ctx_info['ny'] = ny\n",
    "ctx_info['nz'] = None\n",
    "\n",
    "ctx_info['local_size'] = (workgroup_x, workgroup_y)\n",
    "ctx_info['domain_size'] = (nx, ny)\n",
    "\n",
    "ctx_info['dimension'] = dimension\n",
    "ctx_info['num_alleles'] = num_alleles\n",
    "\n",
    "ctx_info['kernel_arguments'] = {}"
   ]
  },
  {
   "cell_type": "code",
   "execution_count": 8,
   "metadata": {},
   "outputs": [],
   "source": [
    "bc_map = np.zeros((nx + 2*halo, ny + 2*halo), dtype=lb.int_type)\n",
    "\n",
    "bc_map[...] = lb.FLUID_NODE\n",
    "\n",
    "bc_map[0:halo, :] = lb.WALL_NODE\n",
    "bc_map[-halo:, :] = lb.WALL_NODE\n",
    "bc_map[:, 0:halo] = lb.WALL_NODE\n",
    "bc_map[:, -halo:] = lb.WALL_NODE"
   ]
  },
  {
   "cell_type": "code",
   "execution_count": 9,
   "metadata": {},
   "outputs": [],
   "source": [
    "R0 = 10\n",
    "\n",
    "[r, c] = ski.draw.circle(nx/2, ny/2, R0)\n",
    "\n",
    "rand_alleles = np.random.randint(-num_alleles, 0, size=(nx, ny))"
   ]
  },
  {
   "cell_type": "code",
   "execution_count": 10,
   "metadata": {},
   "outputs": [],
   "source": [
    "bc_map[r, c] = rand_alleles[r, c]"
   ]
  },
  {
   "cell_type": "code",
   "execution_count": 11,
   "metadata": {},
   "outputs": [
    {
     "data": {
      "text/plain": [
       "<matplotlib.colorbar.Colorbar at 0x7feadedad390>"
      ]
     },
     "execution_count": 11,
     "metadata": {},
     "output_type": "execute_result"
    },
    {
     "data": {
      "image/png": "[encoded data removed]",
      "text/plain": [
       "<matplotlib.figure.Figure at 0x7feae64b6050>"
      ]
     },
     "metadata": {},
     "output_type": "display_data"
    }
   ],
   "source": [
    "plt.imshow(bc_map)\n",
    "plt.colorbar()"
   ]
  },
  {
   "cell_type": "code",
   "execution_count": 12,
   "metadata": {},
   "outputs": [],
   "source": [
    "# Initialize rho...one everywhere, except in the circle where cells were inoculated"
   ]
  },
  {
   "cell_type": "code",
   "execution_count": 13,
   "metadata": {},
   "outputs": [
    {
     "data": {
      "text/plain": [
       "<matplotlib.colorbar.Colorbar at 0x7feadecc0bd0>"
      ]
     },
     "execution_count": 13,
     "metadata": {},
     "output_type": "execute_result"
    },
    {
     "data": {
      "image/png": "[encoded data removed]",
      "text/plain": [
       "<matplotlib.figure.Figure at 0x7feaded8a210>"
      ]
     },
     "metadata": {},
     "output_type": "display_data"
    }
   ],
   "source": [
    "rho = np.ones((nx, ny), dtype=lb.num_type)\n",
    "bc_in_domain = bc_map[halo:-halo, halo:-halo]\n",
    "\n",
    "rho[bc_in_domain < 0] = 0\n",
    "\n",
    "plt.imshow(rho)\n",
    "plt.colorbar()"
   ]
  },
  {
   "cell_type": "code",
   "execution_count": 14,
   "metadata": {},
   "outputs": [],
   "source": [
    "m0 = 1.0"
   ]
  },
  {
   "cell_type": "code",
   "execution_count": 15,
   "metadata": {},
   "outputs": [
    {
     "data": {
      "text/plain": [
       "<matplotlib.colorbar.Colorbar at 0x7feadec11690>"
      ]
     },
     "execution_count": 15,
     "metadata": {},
     "output_type": "execute_result"
    },
    {
     "data": {
      "image/png": "[encoded data removed]",
      "text/plain": [
       "<matplotlib.figure.Figure at 0x7feadecb10d0>"
      ]
     },
     "metadata": {},
     "output_type": "display_data"
    }
   ],
   "source": [
    "# Initialize the current amount of absorbed mass randomly\n",
    "\n",
    "absorbed_mass = np.random.rand(nx, ny)\n",
    "bc_in_domain = bc_map[halo:-halo, halo:-halo]\n",
    "\n",
    "absorbed_mass[bc_in_domain >= 0] = 0\n",
    "\n",
    "plt.imshow(absorbed_mass)\n",
    "plt.colorbar()"
   ]
  },
  {
   "cell_type": "code",
   "execution_count": 16,
   "metadata": {},
   "outputs": [],
   "source": [
    "k_list = [.01, .01]\n",
    "m_reproduce_list = [m0, m0]\n",
    "velocity_set = 'D2Q9'\n",
    "D = .5 * (1./3.)"
   ]
  },
  {
   "cell_type": "code",
   "execution_count": 17,
   "metadata": {},
   "outputs": [
    {
     "name": "stdout",
     "output_type": "stream",
     "text": [
      "global size: (128, 128)\n",
      "local size: (32, 16)\n",
      "The platforms detected are:\n",
      "---------------------------\n",
      "Intel(R) OpenCL Intel(R) Corporation version: OpenCL 1.2 LINUX\n",
      "The devices detected on platform Intel(R) OpenCL are:\n",
      "---------------------------\n",
      "       Intel(R) Core(TM) i7-3537U CPU @ 2.00GHz [Type: CPU ]\n",
      "Maximum clock Frequency: 2000 MHz\n",
      "Maximum allocable memory size: 2062 MB\n",
      "Maximum work group size 8192\n",
      "Maximum work item dimensions 3\n",
      "Maximum work item size [8192L, 8192L, 8192L]\n",
      "---------------------------\n",
      "This context is associated with  1 devices\n"
     ]
    },
    {
     "name": "stderr",
     "output_type": "stream",
     "text": [
      "LB_colony_growth/LB_colony_growth.py:557: UserWarning: Received OpenCL source code in Unicode, should be ASCII string. Attempting conversion.\n",
      "  self.kernels = cl.Program(self.context, buf.getvalue()).build(options='')\n",
      "/home/bryan/anaconda2/lib/python2.7/site-packages/pyopencl/cffi_cl.py:1516: CompilerWarning: From-source build succeeded, but resulted in non-empty logs:\n",
      "Build on <pyopencl.Device 'Intel(R) Core(TM) i7-3537U CPU @ 2.00GHz' on 'Intel(R) OpenCL' at 0x7feb24f93418> succeeded, but said:\n",
      "\n",
      "Compilation started\n",
      "Compilation done\n",
      "Linking started\n",
      "Linking done\n",
      "Device build started\n",
      "Device build done\n",
      "Kernel <collide_and_propagate> was successfully vectorized (4)\n",
      "Kernel <update_after_streaming> was successfully vectorized (4)\n",
      "Kernel <init_feq> was successfully vectorized (4)\n",
      "Kernel <reproduce> was not vectorized\n",
      "Done.\n",
      "  warn(text, CompilerWarning)\n"
     ]
    },
    {
     "name": "stdout",
     "output_type": "stream",
     "text": [
      "tau 1.0\n",
      "omega 1.0\n",
      "global_size_bc: (160, 144)\n",
      "Connecting python to the opencl_kernel init_feq...\n",
      "Connecting python to the opencl_kernel collide_and_propagate...\n",
      "Creating local memory of double type...\n",
      "Creating local memory of int type...\n",
      "Connecting python to the opencl_kernel update_after_streaming...\n",
      "Connecting python to the opencl_kernel reproduce...\n",
      "Creating local memory of int type...\n"
     ]
    },
    {
     "name": "stderr",
     "output_type": "stream",
     "text": [
      "/home/bryan/anaconda2/lib/python2.7/site-packages/pyopencl/cffi_cl.py:1516: CompilerWarning: From-source build succeeded, but resulted in non-empty logs:\n",
      "Build on <pyopencl.Device 'Intel(R) Core(TM) i7-3537U CPU @ 2.00GHz' on 'Intel(R) OpenCL' at 0x7feb24f93418> succeeded, but said:\n",
      "\n",
      "Compilation started\n",
      "Compilation done\n",
      "Linking started\n",
      "Linking done\n",
      "Device build started\n",
      "Device build done\n",
      "Kernel <rng_gen_philox4x32_uniform> was successfully vectorized (4)\n",
      "Done.\n",
      "  warn(text, CompilerWarning)\n"
     ]
    }
   ],
   "source": [
    "dla_colony = lb.DLA_Colony(\n",
    "    ctx_info=ctx_info, velocity_set='D2Q9',\n",
    "    bc_map=bc_map, \n",
    "    D=D, k_list=k_list, m_reproduce_list=m_reproduce_list,\n",
    "    absorbed_mass=absorbed_mass, rho=rho)"
   ]
  },
  {
   "cell_type": "code",
   "execution_count": 28,
   "metadata": {},
   "outputs": [
    {
     "name": "stdout",
     "output_type": "stream",
     "text": [
      "(128, 128, 9)\n"
     ]
    }
   ],
   "source": [
    "feq = dla_colony.feq.get()\n",
    "f = dla_colony.f.get()\n",
    "rho = dla_colony.rho.get()\n",
    "print feq.shape"
   ]
  },
  {
   "cell_type": "code",
   "execution_count": 30,
   "metadata": {},
   "outputs": [
    {
     "ename": "AttributeError",
     "evalue": "'DLA_Colony' object has no attribute 'fluid_list'",
     "output_type": "error",
     "traceback": [
      "\u001b[0;31m---------------------------------------------------------------------------\u001b[0m",
      "\u001b[0;31mAttributeError\u001b[0m                            Traceback (most recent call last)",
      "\u001b[0;32m<ipython-input-30-b80c737031e4>\u001b[0m in \u001b[0;36m<module>\u001b[0;34m()\u001b[0m\n\u001b[0;32m----> 1\u001b[0;31m \u001b[0mdla_colony\u001b[0m\u001b[0;34m.\u001b[0m\u001b[0mrun\u001b[0m\u001b[0;34m(\u001b[0m\u001b[0;36m5\u001b[0m\u001b[0;34m)\u001b[0m\u001b[0;34m\u001b[0m\u001b[0m\n\u001b[0m",
      "\u001b[0;32m/home/bryan/git/LB_colony_growth/LB_colony_growth/LB_colony_growth.py\u001b[0m in \u001b[0;36mrun\u001b[0;34m(self, num_iterations, debug)\u001b[0m\n\u001b[1;32m    944\u001b[0m                 \u001b[0mself\u001b[0m\u001b[0;34m.\u001b[0m\u001b[0mcheck_fields\u001b[0m\u001b[0;34m(\u001b[0m\u001b[0;34m)\u001b[0m\u001b[0;34m\u001b[0m\u001b[0m\n\u001b[1;32m    945\u001b[0m \u001b[0;34m\u001b[0m\u001b[0m\n\u001b[0;32m--> 946\u001b[0;31m             \u001b[0;32mfor\u001b[0m \u001b[0mcur_fluid\u001b[0m \u001b[0;32min\u001b[0m \u001b[0mself\u001b[0m\u001b[0;34m.\u001b[0m\u001b[0mfluid_list\u001b[0m\u001b[0;34m:\u001b[0m\u001b[0;34m\u001b[0m\u001b[0m\n\u001b[0m\u001b[1;32m    947\u001b[0m                 \u001b[0mcur_fluid\u001b[0m\u001b[0;34m.\u001b[0m\u001b[0mmove\u001b[0m\u001b[0;34m(\u001b[0m\u001b[0;34m)\u001b[0m \u001b[0;31m# Move all jumpers\u001b[0m\u001b[0;34m\u001b[0m\u001b[0m\n\u001b[1;32m    948\u001b[0m             \u001b[0;32mif\u001b[0m \u001b[0mdebug\u001b[0m\u001b[0;34m:\u001b[0m\u001b[0;34m\u001b[0m\u001b[0m\n",
      "\u001b[0;31mAttributeError\u001b[0m: 'DLA_Colony' object has no attribute 'fluid_list'"
     ]
    }
   ],
   "source": [
    "dla_colony.run(5)"
   ]
  },
  {
   "cell_type": "code",
   "execution_count": 29,
   "metadata": {},
   "outputs": [
    {
     "data": {
      "text/plain": [
       "<matplotlib.image.AxesImage at 0x7feadeb90ad0>"
      ]
     },
     "execution_count": 29,
     "metadata": {},
     "output_type": "execute_result"
    },
    {
     "data": {
      "image/png": "[encoded data removed]",
      "text/plain": [
       "<matplotlib.figure.Figure at 0x7feadae0e450>"
      ]
     },
     "metadata": {},
     "output_type": "display_data"
    }
   ],
   "source": [
    "plt.imshow(rho)"
   ]
  },
  {
   "cell_type": "code",
   "execution_count": null,
   "metadata": {},
   "outputs": [],
   "source": []
  }
 ],
 "metadata": {
  "kernelspec": {
   "display_name": "Python 2",
   "language": "python",
   "name": "python2"
  },
  "language_info": {
   "codemirror_mode": {
    "name": "ipython",
    "version": 2
   },
   "file_extension": ".py",
   "mimetype": "text/x-python",
   "name": "python",
   "nbconvert_exporter": "python",
   "pygments_lexer": "ipython2",
   "version": "2.7.14"
  }
 },
 "nbformat": 4,
 "nbformat_minor": 2
}
