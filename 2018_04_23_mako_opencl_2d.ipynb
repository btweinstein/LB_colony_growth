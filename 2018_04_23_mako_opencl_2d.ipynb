{
 "cells": [
  {
   "cell_type": "code",
   "execution_count": 1,
   "metadata": {},
   "outputs": [],
   "source": [
    "%load_ext autoreload\n",
    "%autoreload 2"
   ]
  },
  {
   "cell_type": "code",
   "execution_count": 2,
   "metadata": {},
   "outputs": [
    {
     "name": "stdout",
     "output_type": "stream",
     "text": [
      "Populating the interactive namespace from numpy and matplotlib\n"
     ]
    }
   ],
   "source": [
    "%pylab inline"
   ]
  },
  {
   "cell_type": "code",
   "execution_count": 3,
   "metadata": {},
   "outputs": [],
   "source": [
    "import seaborn as sns"
   ]
  },
  {
   "cell_type": "code",
   "execution_count": 4,
   "metadata": {},
   "outputs": [],
   "source": [
    "sns.set_context('paper', font_scale=2.2)\n",
    "sns.set_style('ticks')"
   ]
  },
  {
   "cell_type": "code",
   "execution_count": 5,
   "metadata": {},
   "outputs": [],
   "source": [
    "import LB_colony_growth.LB_colony_growth as lb\n",
    "\n",
    "import skimage as ski\n",
    "import skimage.draw"
   ]
  },
  {
   "cell_type": "code",
   "execution_count": 6,
   "metadata": {},
   "outputs": [],
   "source": [
    "dimension = 2\n",
    "\n",
    "workgroup_x = 32\n",
    "workgroup_y = 16\n",
    "\n",
    "halo = 1 #ALWAYS 1 for this system.\n",
    "\n",
    "num_alleles = 2\n",
    "\n",
    "nx = 128\n",
    "ny = 128\n",
    "\n",
    "velocity_set = 'D2Q9'"
   ]
  },
  {
   "cell_type": "code",
   "execution_count": 7,
   "metadata": {},
   "outputs": [],
   "source": [
    "bc_map = np.zeros((nx + 2*halo, ny + 2*halo), dtype=lb.int_type)\n",
    "\n",
    "bc_map[...] = lb.FLUID_NODE\n",
    "\n",
    "bc_map[0:halo, :] = lb.WALL_NODE\n",
    "bc_map[-halo:, :] = lb.WALL_NODE\n",
    "bc_map[:, 0:halo] = lb.WALL_NODE\n",
    "bc_map[:, -halo:] = lb.WALL_NODE"
   ]
  },
  {
   "cell_type": "code",
   "execution_count": 8,
   "metadata": {},
   "outputs": [],
   "source": [
    "R0 = 10\n",
    "\n",
    "[r, c] = ski.draw.circle(nx/2, ny/2, R0)\n",
    "\n",
    "rand_alleles = np.random.randint(-num_alleles, 0, size=(nx, ny))"
   ]
  },
  {
   "cell_type": "code",
   "execution_count": 9,
   "metadata": {},
   "outputs": [],
   "source": [
    "bc_map[r, c] = rand_alleles[r, c]"
   ]
  },
  {
   "cell_type": "code",
   "execution_count": 10,
   "metadata": {},
   "outputs": [
    {
     "data": {
      "text/plain": [
       "<matplotlib.colorbar.Colorbar at 0x7ff260f89110>"
      ]
     },
     "execution_count": 10,
     "metadata": {},
     "output_type": "execute_result"
    },
    {
     "data": {
      "image/png": "[encoded data removed]",
      "text/plain": [
       "<matplotlib.figure.Figure at 0x7ff268b7cd10>"
      ]
     },
     "metadata": {},
     "output_type": "display_data"
    }
   ],
   "source": [
    "plt.imshow(bc_map)\n",
    "plt.colorbar()"
   ]
  },
  {
   "cell_type": "code",
   "execution_count": 16,
   "metadata": {},
   "outputs": [],
   "source": [
    "ctx_info = {}\n",
    "ctx_info['num_type'] = 'double'\n",
    "\n",
    "ctx_info['nx'] = nx\n",
    "ctx_info['ny'] = ny\n",
    "ctx_info['nz'] = None\n",
    "\n",
    "ctx_info['local_size'] = (workgroup_x, workgroup_y)\n",
    "ctx_info['domain_size'] = (nx, ny)\n",
    "\n",
    "ctx_info['dimension'] = dimension\n",
    "ctx_info['num_alleles'] = num_alleles\n",
    "\n",
    "ctx_info['kernel_arguments'] = {}"
   ]
  },
  {
   "cell_type": "code",
   "execution_count": 17,
   "metadata": {},
   "outputs": [],
   "source": [
    "k_list = [.01, .01]\n",
    "m_reproduce_list = [1, 1]\n",
    "velocity_set = 'D2Q9'\n",
    "D = .5 * (1./3.)"
   ]
  },
  {
   "cell_type": "code",
   "execution_count": 18,
   "metadata": {},
   "outputs": [
    {
     "name": "stdout",
     "output_type": "stream",
     "text": [
      "global size: (128, 128)\n",
      "local size: (32, 16)\n",
      "The platforms detected are:\n",
      "---------------------------\n",
      "Intel(R) OpenCL Intel(R) Corporation version: OpenCL 1.2 LINUX\n",
      "The devices detected on platform Intel(R) OpenCL are:\n",
      "---------------------------\n",
      "       Intel(R) Core(TM) i7-3537U CPU @ 2.00GHz [Type: CPU ]\n",
      "Maximum clock Frequency: 2000 MHz\n",
      "Maximum allocable memory size: 2062 MB\n",
      "Maximum work group size 8192\n",
      "Maximum work item dimensions 3\n",
      "Maximum work item size [8192L, 8192L, 8192L]\n",
      "---------------------------\n",
      "This context is associated with  1 devices\n",
      "tau 1.0\n",
      "omega 1.0\n",
      "global_size_bc: (160, 144)\n"
     ]
    }
   ],
   "source": [
    "dla_colony = lb.DLA_Colony(\n",
    "    ctx_info=ctx_info, velocity_set='D2Q9',\n",
    "    bc_map=bc_map, \n",
    "    D=D, k_list=k_list, m_reproduce_list=m_reproduce_list)"
   ]
  },
  {
   "cell_type": "code",
   "execution_count": 14,
   "metadata": {},
   "outputs": [
    {
     "data": {
      "text/plain": [
       "{'D': 0.16666666666666666,\n",
       " 'bc_map': <pyopencl.cffi_cl.Buffer at 0x7ff25d0241d0>,\n",
       " 'bc_map_streamed': <pyopencl.cffi_cl.Buffer at 0x7ff25d024290>,\n",
       " 'buf_nx': 34,\n",
       " 'buf_ny': 18,\n",
       " 'buf_nz': None,\n",
       " 'c_mag': <pyopencl.cffi_cl.Buffer at 0x7ff25cfeba90>,\n",
       " 'c_vec': <pyopencl.cffi_cl.Buffer at 0x7ff2692fb310>,\n",
       " 'cs': 0.57735026918962584,\n",
       " 'f': <pyopencl.cffi_cl.Buffer at 0x7ff25d024410>,\n",
       " 'f_streamed': <pyopencl.cffi_cl.Buffer at 0x7ff25d024490>,\n",
       " 'feq': <pyopencl.cffi_cl.Buffer at 0x7ff25d024390>,\n",
       " 'halo': 1,\n",
       " 'k_list': <pyopencl.cffi_cl.Buffer at 0x7ff260f65590>,\n",
       " 'm_reproduce_list': <pyopencl.cffi_cl.Buffer at 0x7ff260f65610>,\n",
       " 'nx_bc': 130,\n",
       " 'ny_bc': 130,\n",
       " 'nz_bc': None,\n",
       " 'omega': 1.0000000000000002,\n",
       " 'reflect_index': <pyopencl.cffi_cl.Buffer at 0x7ff25cfeba50>,\n",
       " 'rho': <pyopencl.cffi_cl.Buffer at 0x7ff25d024210>,\n",
       " 'slip_index': <pyopencl.cffi_cl.Buffer at 0x7ff25d0240d0>,\n",
       " 'tau': 0.99999999999999978}"
      ]
     },
     "execution_count": 14,
     "metadata": {},
     "output_type": "execute_result"
    }
   ],
   "source": [
    "dla_colony.kernel_args"
   ]
  },
  {
   "cell_type": "code",
   "execution_count": 15,
   "metadata": {},
   "outputs": [
    {
     "data": {
      "text/plain": [
       "{'collide_and_propagate': [['bc_map',\n",
       "   '__global __read_only int *bc_map_global'],\n",
       "  ['nx_bc', 'const int nx_bc'],\n",
       "  ['ny_bc', 'const int ny_bc'],\n",
       "  ['f', '__global double *f_global'],\n",
       "  ['f_streamed', '__global double *f_streamed_global'],\n",
       "  ['feq', '__global __read_only double *feq_global'],\n",
       "  ['rho', '__global double *rho_global'],\n",
       "  ['absorbed_mass', '__global double *absorbed_mass_global'],\n",
       "  ['local_mem', '__local double *rho_local'],\n",
       "  ['local_mem', '__local double *bc_map_local'],\n",
       "  ['buf_nx', 'const int buf_nx'],\n",
       "  ['buf_ny', 'const int buf_ny'],\n",
       "  ['k_list', '__constant double *k'],\n",
       "  ['D', 'const double D'],\n",
       "  ['num_jumpers', 'const int num_jumpers'],\n",
       "  ['omega', 'const double omega'],\n",
       "  ['c_vec', '__constant int *c_vec'],\n",
       "  ['c_mag', '__constant double *c_mag'],\n",
       "  ['w', '__constant double *w'],\n",
       "  ['reflect_list', '__constant double *reflect_list']],\n",
       " 'init_feq': [['feq', '__global __read_only double *feq_global'],\n",
       "  ['rho', '__global double *rho_global'],\n",
       "  ['w', '__constant double *w'],\n",
       "  ['num_jumpers', 'const int num_jumpers']],\n",
       " 'reproduce': [['bc_map', '__global __read_only int *bc_map_global'],\n",
       "  ['nx_bc', 'const int nx_bc'],\n",
       "  ['ny_bc', 'const int ny_bc'],\n",
       "  ['streamed_bc_map', '__global int *streamed_bc_map_global'],\n",
       "  ['absorbed_mass', '__global double *absorbed_mass_global'],\n",
       "  ['rand', '__global double *rand_global'],\n",
       "  ['can_reproduce_pointer', '__global int *can_reproduce_global'],\n",
       "  ['m_reproduce_list', '__constant double *m_reproduce'],\n",
       "  ['w', '__constant double *w'],\n",
       "  ['num_jumpers', 'const int num_jumpers'],\n",
       "  ['c_vec', '__constant int *c_vec'],\n",
       "  ['local_mem', '__local double *bc_map_local'],\n",
       "  ['buf_nx', 'const int buf_nx'],\n",
       "  ['buf_ny', 'const int buf_ny']],\n",
       " 'update_after_streaming': [['bc_map',\n",
       "   '__global __read_only int *bc_map_global'],\n",
       "  ['nx_bc', 'const int nx_bc'],\n",
       "  ['ny_bc', 'const int ny_bc'],\n",
       "  ['f', '__global double *f_global'],\n",
       "  ['feq', '__global __read_only double *feq_global'],\n",
       "  ['rho', '__global double *rho_global'],\n",
       "  ['w', '__constant double *w'],\n",
       "  ['num_jumpers', 'const int num_jumpers']]}"
      ]
     },
     "execution_count": 15,
     "metadata": {},
     "output_type": "execute_result"
    }
   ],
   "source": [
    "dla_colony.ctx_info['kernel_arguments']"
   ]
  },
  {
   "cell_type": "code",
   "execution_count": null,
   "metadata": {},
   "outputs": [],
   "source": []
  }
 ],
 "metadata": {
  "kernelspec": {
   "display_name": "Python 2",
   "language": "python",
   "name": "python2"
  },
  "language_info": {
   "codemirror_mode": {
    "name": "ipython",
    "version": 2
   },
   "file_extension": ".py",
   "mimetype": "text/x-python",
   "name": "python",
   "nbconvert_exporter": "python",
   "pygments_lexer": "ipython2",
   "version": "2.7.14"
  }
 },
 "nbformat": 4,
 "nbformat_minor": 2
}
