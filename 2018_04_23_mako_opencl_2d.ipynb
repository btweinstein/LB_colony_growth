{
 "cells": [
  {
   "cell_type": "code",
   "execution_count": 1,
   "metadata": {},
   "outputs": [],
   "source": [
    "%load_ext autoreload\n",
    "%autoreload 2"
   ]
  },
  {
   "cell_type": "code",
   "execution_count": 2,
   "metadata": {},
   "outputs": [
    {
     "name": "stdout",
     "output_type": "stream",
     "text": [
      "Populating the interactive namespace from numpy and matplotlib\n"
     ]
    }
   ],
   "source": [
    "%pylab inline"
   ]
  },
  {
   "cell_type": "code",
   "execution_count": 3,
   "metadata": {},
   "outputs": [],
   "source": [
    "import seaborn as sns"
   ]
  },
  {
   "cell_type": "code",
   "execution_count": 4,
   "metadata": {},
   "outputs": [],
   "source": [
    "sns.set_context('paper', font_scale=2.2)\n",
    "sns.set_style('ticks')"
   ]
  },
  {
   "cell_type": "code",
   "execution_count": 5,
   "metadata": {},
   "outputs": [],
   "source": [
    "import LB_colony_growth.LB_colony_growth as lb\n",
    "\n",
    "import skimage as ski\n",
    "import skimage.draw"
   ]
  },
  {
   "cell_type": "code",
   "execution_count": 42,
   "metadata": {},
   "outputs": [],
   "source": [
    "dimension = 2\n",
    "\n",
    "workgroup_x = 32\n",
    "workgroup_y = 16\n",
    "\n",
    "halo = 1 #ALWAYS 1 for this system.\n",
    "\n",
    "num_alleles = 2\n",
    "\n",
    "nx = 128\n",
    "ny = 128\n",
    "\n",
    "velocity_set = 'D2Q9'"
   ]
  },
  {
   "cell_type": "code",
   "execution_count": 43,
   "metadata": {},
   "outputs": [],
   "source": [
    "ctx_info = {}\n",
    "ctx_info['num_type'] = 'double'\n",
    "\n",
    "ctx_info['nx'] = nx\n",
    "ctx_info['ny'] = ny\n",
    "ctx_info['nz'] = None\n",
    "\n",
    "ctx_info['local_size'] = (workgroup_x, workgroup_y)\n",
    "ctx_info['domain_size'] = (nx, ny)\n",
    "\n",
    "ctx_info['dimension'] = dimension\n",
    "ctx_info['num_alleles'] = num_alleles\n",
    "\n",
    "ctx_info['kernel_arguments'] = {}"
   ]
  },
  {
   "cell_type": "code",
   "execution_count": 44,
   "metadata": {},
   "outputs": [],
   "source": [
    "bc_map = np.zeros((nx + 2*halo, ny + 2*halo), dtype=lb.int_type)\n",
    "\n",
    "bc_map[...] = lb.FLUID_NODE\n",
    "\n",
    "bc_map[0:halo, :] = lb.WALL_NODE\n",
    "bc_map[-halo:, :] = lb.WALL_NODE\n",
    "bc_map[:, 0:halo] = lb.WALL_NODE\n",
    "bc_map[:, -halo:] = lb.WALL_NODE"
   ]
  },
  {
   "cell_type": "code",
   "execution_count": 45,
   "metadata": {},
   "outputs": [],
   "source": [
    "R0 = 10\n",
    "\n",
    "[r, c] = ski.draw.circle(nx/2, ny/2, R0)\n",
    "\n",
    "rand_alleles = np.random.randint(-num_alleles, 0, size=(nx, ny))"
   ]
  },
  {
   "cell_type": "code",
   "execution_count": 46,
   "metadata": {},
   "outputs": [],
   "source": [
    "bc_map[r, c] = rand_alleles[r, c]"
   ]
  },
  {
   "cell_type": "code",
   "execution_count": 47,
   "metadata": {},
   "outputs": [
    {
     "data": {
      "text/plain": [
       "<matplotlib.colorbar.Colorbar at 0x7f0cb5d7a150>"
      ]
     },
     "execution_count": 47,
     "metadata": {},
     "output_type": "execute_result"
    },
    {
     "data": {
      "image/png": "[encoded data removed]",
      "text/plain": [
       "<matplotlib.figure.Figure at 0x7f0cb5e77990>"
      ]
     },
     "metadata": {},
     "output_type": "display_data"
    }
   ],
   "source": [
    "plt.imshow(bc_map)\n",
    "plt.colorbar()"
   ]
  },
  {
   "cell_type": "code",
   "execution_count": 48,
   "metadata": {},
   "outputs": [],
   "source": [
    "# Initialize rho...one everywhere, except in the circle where cells were inoculated"
   ]
  },
  {
   "cell_type": "code",
   "execution_count": 49,
   "metadata": {},
   "outputs": [
    {
     "data": {
      "text/plain": [
       "<matplotlib.colorbar.Colorbar at 0x7f0cc43f3710>"
      ]
     },
     "execution_count": 49,
     "metadata": {},
     "output_type": "execute_result"
    },
    {
     "data": {
      "image/png": "[encoded data removed]",
      "text/plain": [
       "<matplotlib.figure.Figure at 0x7f0cb5e11810>"
      ]
     },
     "metadata": {},
     "output_type": "display_data"
    }
   ],
   "source": [
    "rho = np.ones((nx, ny), dtype=lb.num_type)\n",
    "bc_in_domain = bc_map[halo:-halo, halo:-halo]\n",
    "\n",
    "rho[bc_in_domain < 0] = 0\n",
    "\n",
    "plt.imshow(rho)\n",
    "plt.colorbar()"
   ]
  },
  {
   "cell_type": "code",
   "execution_count": 50,
   "metadata": {},
   "outputs": [],
   "source": [
    "m0 = 1.0"
   ]
  },
  {
   "cell_type": "code",
   "execution_count": 51,
   "metadata": {},
   "outputs": [
    {
     "data": {
      "text/plain": [
       "<matplotlib.colorbar.Colorbar at 0x7f0cc432de90>"
      ]
     },
     "execution_count": 51,
     "metadata": {},
     "output_type": "execute_result"
    },
    {
     "data": {
      "image/png": "[encoded data removed]",
      "text/plain": [
       "<matplotlib.figure.Figure at 0x7f0cc43a1510>"
      ]
     },
     "metadata": {},
     "output_type": "display_data"
    }
   ],
   "source": [
    "# Initialize the current amount of absorbed mass randomly\n",
    "\n",
    "absorbed_mass = np.random.rand(nx, ny)\n",
    "bc_in_domain = bc_map[halo:-halo, halo:-halo]\n",
    "\n",
    "absorbed_mass[bc_in_domain >= 0] = 0\n",
    "\n",
    "plt.imshow(absorbed_mass)\n",
    "plt.colorbar()"
   ]
  },
  {
   "cell_type": "code",
   "execution_count": 95,
   "metadata": {},
   "outputs": [],
   "source": [
    "k_list = [.1, .1]\n",
    "m_reproduce_list = [m0, m0]\n",
    "velocity_set = 'D2Q9'\n",
    "D = .5 * (1./3.)"
   ]
  },
  {
   "cell_type": "code",
   "execution_count": 125,
   "metadata": {},
   "outputs": [
    {
     "name": "stdout",
     "output_type": "stream",
     "text": [
      "global size: (128, 128)\n",
      "local size: (32, 16)\n",
      "The platforms detected are:\n",
      "---------------------------\n",
      "Intel(R) OpenCL Intel(R) Corporation version: OpenCL 1.2 LINUX\n",
      "The devices detected on platform Intel(R) OpenCL are:\n",
      "---------------------------\n",
      "       Intel(R) Core(TM) i7-3537U CPU @ 2.00GHz [Type: CPU ]\n",
      "Maximum clock Frequency: 2000 MHz\n",
      "Maximum allocable memory size: 2062 MB\n",
      "Maximum work group size 8192\n",
      "Maximum work item dimensions 3\n",
      "Maximum work item size [8192L, 8192L, 8192L]\n",
      "---------------------------\n",
      "This context is associated with  1 devices\n",
      "tau 1.0\n",
      "omega 1.0\n",
      "global_size_bc: (160, 144)\n",
      "Connecting python to the opencl_kernel init_feq...\n",
      "Connecting python to the opencl_kernel collide_and_propagate...\n",
      "Creating local memory of double type...\n",
      "Creating local memory of int type...\n",
      "Connecting python to the opencl_kernel update_after_streaming...\n",
      "Connecting python to the opencl_kernel reproduce...\n",
      "Creating local memory of int type...\n",
      "Connecting python to the opencl_kernel copy_streamed_onto_f...\n"
     ]
    }
   ],
   "source": [
    "dla_colony = lb.DLA_Colony(\n",
    "    ctx_info=ctx_info, velocity_set='D2Q9',\n",
    "    bc_map=bc_map, \n",
    "    D=D, k_list=k_list, m_reproduce_list=m_reproduce_list,\n",
    "    absorbed_mass=absorbed_mass, rho=rho)"
   ]
  },
  {
   "cell_type": "code",
   "execution_count": 126,
   "metadata": {},
   "outputs": [
    {
     "data": {
      "text/plain": [
       "<matplotlib.colorbar.Colorbar at 0x7f0cb47e7c90>"
      ]
     },
     "execution_count": 126,
     "metadata": {},
     "output_type": "execute_result"
    },
    {
     "data": {
      "image/png": "[encoded data removed]",
      "text/plain": [
       "<matplotlib.figure.Figure at 0x7f0cb4663790>"
      ]
     },
     "metadata": {},
     "output_type": "display_data"
    }
   ],
   "source": [
    "plt.imshow(dla_colony.f_streamed.get()[:, :, 3])\n",
    "plt.colorbar()"
   ]
  },
  {
   "cell_type": "code",
   "execution_count": 127,
   "metadata": {
    "scrolled": false
   },
   "outputs": [
    {
     "data": {
      "text/plain": [
       "<matplotlib.colorbar.Colorbar at 0x7f0cb4855290>"
      ]
     },
     "execution_count": 127,
     "metadata": {},
     "output_type": "execute_result"
    },
    {
     "data": {
      "image/png": "[encoded data removed]",
      "text/plain": [
       "<matplotlib.figure.Figure at 0x7f0cb501c190>"
      ]
     },
     "metadata": {},
     "output_type": "display_data"
    }
   ],
   "source": [
    "plt.imshow(dla_colony.f.get()[:, :, 0])\n",
    "plt.colorbar()"
   ]
  },
  {
   "cell_type": "markdown",
   "metadata": {},
   "source": [
    "To me, it looks like update_feq is doing weird stuff..."
   ]
  },
  {
   "cell_type": "code",
   "execution_count": 128,
   "metadata": {},
   "outputs": [
    {
     "data": {
      "text/plain": [
       "<matplotlib.colorbar.Colorbar at 0x7f0cb471ddd0>"
      ]
     },
     "execution_count": 128,
     "metadata": {},
     "output_type": "execute_result"
    },
    {
     "data": {
      "image/png": "[encoded data removed]",
      "text/plain": [
       "<matplotlib.figure.Figure at 0x7f0cb4855d90>"
      ]
     },
     "metadata": {},
     "output_type": "display_data"
    }
   ],
   "source": [
    "plt.imshow(dla_colony.rho.get())\n",
    "plt.colorbar()"
   ]
  },
  {
   "cell_type": "code",
   "execution_count": 129,
   "metadata": {},
   "outputs": [
    {
     "data": {
      "text/plain": [
       "<matplotlib.colorbar.Colorbar at 0x7f0cafea3ad0>"
      ]
     },
     "execution_count": 129,
     "metadata": {},
     "output_type": "execute_result"
    },
    {
     "data": {
      "image/png": "[encoded data removed]",
      "text/plain": [
       "<matplotlib.figure.Figure at 0x7f0cb46cc150>"
      ]
     },
     "metadata": {},
     "output_type": "display_data"
    }
   ],
   "source": [
    "plt.imshow(dla_colony.feq.get()[:, :, 3])\n",
    "plt.colorbar()"
   ]
  },
  {
   "cell_type": "code",
   "execution_count": 130,
   "metadata": {},
   "outputs": [],
   "source": [
    "# dla_colony.run(1)"
   ]
  },
  {
   "cell_type": "code",
   "execution_count": 131,
   "metadata": {},
   "outputs": [
    {
     "data": {
      "text/plain": [
       "16079.000000000005"
      ]
     },
     "execution_count": 131,
     "metadata": {},
     "output_type": "execute_result"
    }
   ],
   "source": [
    "dla_colony.feq.get().sum()"
   ]
  },
  {
   "cell_type": "code",
   "execution_count": 132,
   "metadata": {},
   "outputs": [
    {
     "data": {
      "text/plain": [
       "16079.0"
      ]
     },
     "execution_count": 132,
     "metadata": {},
     "output_type": "execute_result"
    }
   ],
   "source": [
    "dla_colony.rho.get().sum()"
   ]
  },
  {
   "cell_type": "code",
   "execution_count": 133,
   "metadata": {},
   "outputs": [
    {
     "data": {
      "text/plain": [
       "16079.000091313215"
      ]
     },
     "execution_count": 133,
     "metadata": {},
     "output_type": "execute_result"
    }
   ],
   "source": [
    "dla_colony.f.get().sum()"
   ]
  },
  {
   "cell_type": "code",
   "execution_count": 134,
   "metadata": {},
   "outputs": [
    {
     "data": {
      "text/plain": [
       "16079.000091313215"
      ]
     },
     "execution_count": 134,
     "metadata": {},
     "output_type": "execute_result"
    }
   ],
   "source": [
    "dla_colony.f_streamed.get().sum()"
   ]
  },
  {
   "cell_type": "code",
   "execution_count": 135,
   "metadata": {},
   "outputs": [],
   "source": [
    "# dla_colony.collide_and_propagate.run().wait()\n",
    "# dla_colony.copy_streamed_onto_f.run().wait()"
   ]
  },
  {
   "cell_type": "code",
   "execution_count": 142,
   "metadata": {},
   "outputs": [],
   "source": [
    "dla_colony.update_after_streaming.run().wait()"
   ]
  },
  {
   "cell_type": "code",
   "execution_count": 136,
   "metadata": {},
   "outputs": [],
   "source": [
    "wat = np.ones((nx, ny, 9), order='F', dtype=lb.num_type)"
   ]
  },
  {
   "cell_type": "code",
   "execution_count": 137,
   "metadata": {},
   "outputs": [
    {
     "data": {
      "text/plain": [
       "147456.0"
      ]
     },
     "execution_count": 137,
     "metadata": {},
     "output_type": "execute_result"
    }
   ],
   "source": [
    "wat.sum()"
   ]
  },
  {
   "cell_type": "code",
   "execution_count": 138,
   "metadata": {},
   "outputs": [],
   "source": [
    "import pyopencl as cl"
   ]
  },
  {
   "cell_type": "code",
   "execution_count": 143,
   "metadata": {},
   "outputs": [
    {
     "data": {
      "text/plain": [
       "<pyopencl.cffi_cl.Buffer at 0x7f0cb48d7e90>"
      ]
     },
     "execution_count": 143,
     "metadata": {},
     "output_type": "execute_result"
    }
   ],
   "source": [
    "dla_colony.kernel_args['f']"
   ]
  },
  {
   "cell_type": "code",
   "execution_count": 139,
   "metadata": {},
   "outputs": [
    {
     "data": {
      "text/plain": [
       "<pyopencl.cffi_cl.NannyEvent at 0x7f0cb46cccd0>"
      ]
     },
     "execution_count": 139,
     "metadata": {},
     "output_type": "execute_result"
    }
   ],
   "source": [
    "cl.enqueue_copy(dla_colony.queue, wat, dla_colony.kernel_args['f'])"
   ]
  },
  {
   "cell_type": "code",
   "execution_count": 140,
   "metadata": {},
   "outputs": [
    {
     "data": {
      "text/plain": [
       "0.0"
      ]
     },
     "execution_count": 140,
     "metadata": {},
     "output_type": "execute_result"
    }
   ],
   "source": [
    "wat.sum()"
   ]
  },
  {
   "cell_type": "code",
   "execution_count": 141,
   "metadata": {},
   "outputs": [
    {
     "data": {
      "text/plain": [
       "16079.000091313215"
      ]
     },
     "execution_count": 141,
     "metadata": {},
     "output_type": "execute_result"
    }
   ],
   "source": [
    "dla_colony.f.get().sum()"
   ]
  },
  {
   "cell_type": "code",
   "execution_count": null,
   "metadata": {},
   "outputs": [],
   "source": []
  }
 ],
 "metadata": {
  "kernelspec": {
   "display_name": "Python 2",
   "language": "python",
   "name": "python2"
  },
  "language_info": {
   "codemirror_mode": {
    "name": "ipython",
    "version": 2
   },
   "file_extension": ".py",
   "mimetype": "text/x-python",
   "name": "python",
   "nbconvert_exporter": "python",
   "pygments_lexer": "ipython2",
   "version": "2.7.14"
  }
 },
 "nbformat": 4,
 "nbformat_minor": 2
}
