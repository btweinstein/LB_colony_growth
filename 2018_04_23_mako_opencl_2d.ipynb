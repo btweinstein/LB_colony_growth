{
 "cells": [
  {
   "cell_type": "code",
   "execution_count": 39,
   "metadata": {},
   "outputs": [
    {
     "name": "stdout",
     "output_type": "stream",
     "text": [
      "The autoreload extension is already loaded. To reload it, use:\n",
      "  %reload_ext autoreload\n"
     ]
    }
   ],
   "source": [
    "%load_ext autoreload\n",
    "%autoreload 2"
   ]
  },
  {
   "cell_type": "code",
   "execution_count": 40,
   "metadata": {},
   "outputs": [
    {
     "name": "stdout",
     "output_type": "stream",
     "text": [
      "Populating the interactive namespace from numpy and matplotlib\n"
     ]
    }
   ],
   "source": [
    "%pylab inline"
   ]
  },
  {
   "cell_type": "code",
   "execution_count": 41,
   "metadata": {},
   "outputs": [],
   "source": [
    "import seaborn as sns"
   ]
  },
  {
   "cell_type": "code",
   "execution_count": 42,
   "metadata": {},
   "outputs": [],
   "source": [
    "sns.set_context('paper', font_scale=2.2)\n",
    "sns.set_style('ticks')"
   ]
  },
  {
   "cell_type": "code",
   "execution_count": 52,
   "metadata": {},
   "outputs": [],
   "source": [
    "import LB_colony_growth.LB_colony_growth as lb\n",
    "\n",
    "import skimage as ski\n",
    "import skimage.draw"
   ]
  },
  {
   "cell_type": "code",
   "execution_count": 53,
   "metadata": {},
   "outputs": [],
   "source": [
    "dimension = 2\n",
    "\n",
    "workgroup_x = 32\n",
    "workgroup_y = 16\n",
    "\n",
    "halo = 1 #ALWAYS 1 for this system.\n",
    "\n",
    "num_alleles = 2\n",
    "\n",
    "nx = 128\n",
    "ny = 128\n",
    "\n",
    "velocity_set = 'D2Q9'"
   ]
  },
  {
   "cell_type": "code",
   "execution_count": 54,
   "metadata": {},
   "outputs": [],
   "source": [
    "bc_map = np.zeros((nx + 2*halo, ny + 2*halo), dtype=lb.int_type)\n",
    "\n",
    "bc_map[...] = lb.FLUID_NODE\n",
    "\n",
    "bc_map[0:halo, :] = lb.WALL_NODE\n",
    "bc_map[-halo:, :] = lb.WALL_NODE\n",
    "bc_map[:, 0:halo] = lb.WALL_NODE\n",
    "bc_map[:, -halo:] = lb.WALL_NODE"
   ]
  },
  {
   "cell_type": "code",
   "execution_count": 55,
   "metadata": {},
   "outputs": [],
   "source": [
    "R0 = 10\n",
    "\n",
    "[r, c] = ski.draw.circle(nx/2, ny/2, R0)\n",
    "\n",
    "rand_alleles = np.random.randint(-num_alleles, 0, size=(nx, ny))"
   ]
  },
  {
   "cell_type": "code",
   "execution_count": 56,
   "metadata": {},
   "outputs": [],
   "source": [
    "bc_map[r, c] = rand_alleles[r, c]"
   ]
  },
  {
   "cell_type": "code",
   "execution_count": 57,
   "metadata": {},
   "outputs": [
    {
     "data": {
      "text/plain": [
       "<matplotlib.colorbar.Colorbar at 0x7fb2681e3390>"
      ]
     },
     "execution_count": 57,
     "metadata": {},
     "output_type": "execute_result"
    },
    {
     "data": {
      "image/png": "[encoded data removed]",
      "text/plain": [
       "<matplotlib.figure.Figure at 0x7fb26ee68150>"
      ]
     },
     "metadata": {},
     "output_type": "display_data"
    }
   ],
   "source": [
    "plt.imshow(bc_map)\n",
    "plt.colorbar()"
   ]
  },
  {
   "cell_type": "code",
   "execution_count": 58,
   "metadata": {},
   "outputs": [],
   "source": [
    "ctx_info = {}\n",
    "ctx_info['num_type'] = 'double'\n",
    "\n",
    "ctx_info['nx'] = nx\n",
    "ctx_info['ny'] = ny\n",
    "ctx_info['nz'] = None\n",
    "\n",
    "ctx_info['local_size'] = (workgroup_x, workgroup_y)\n",
    "ctx_info['domain_size'] = (nx, ny)\n",
    "\n",
    "ctx_info['dimension'] = dimension\n",
    "ctx_info['num_alleles'] = num_alleles\n",
    "\n",
    "ctx_info['kernel_arguments'] = {}"
   ]
  },
  {
   "cell_type": "code",
   "execution_count": 59,
   "metadata": {},
   "outputs": [],
   "source": [
    "k_list = [.01, .01]\n",
    "m_reproduce_list = [1, 1]\n",
    "velocity_set = 'D2Q9'\n",
    "D = .5 * (1./3.)"
   ]
  },
  {
   "cell_type": "code",
   "execution_count": 60,
   "metadata": {},
   "outputs": [
    {
     "name": "stdout",
     "output_type": "stream",
     "text": [
      "global size: (128, 128)\n",
      "local size: (32, 16)\n",
      "The platforms detected are:\n",
      "---------------------------\n",
      "Intel(R) OpenCL Intel(R) Corporation version: OpenCL 1.2 LINUX\n",
      "The devices detected on platform Intel(R) OpenCL are:\n",
      "---------------------------\n",
      "       Intel(R) Core(TM) i7-3537U CPU @ 2.00GHz [Type: CPU ]\n",
      "Maximum clock Frequency: 2000 MHz\n",
      "Maximum allocable memory size: 2062 MB\n",
      "Maximum work group size 8192\n",
      "Maximum work item dimensions 3\n",
      "Maximum work item size [8192L, 8192L, 8192L]\n",
      "---------------------------\n",
      "This context is associated with  1 devices\n",
      "tau 1.0\n",
      "omega 1.0\n",
      "global_size_bc: (160, 144)\n"
     ]
    }
   ],
   "source": [
    "dla_colony = lb.DLA_Colony(\n",
    "    ctx_info=ctx_info, velocity_set='D2Q9',\n",
    "    bc_map=bc_map, \n",
    "    D=D, k_list=k_list, m_reproduce_list=m_reproduce_list)"
   ]
  },
  {
   "cell_type": "code",
   "execution_count": 61,
   "metadata": {},
   "outputs": [
    {
     "data": {
      "text/plain": [
       "{'D': 0.16666666666666666,\n",
       " 'bc_map': <pyopencl.cffi_cl.Buffer at 0x7fb2680dd790>,\n",
       " 'bc_map_streamed': <pyopencl.cffi_cl.Buffer at 0x7fb2680ddf10>,\n",
       " 'buf_nx': 34,\n",
       " 'buf_ny': 18,\n",
       " 'buf_nz': None,\n",
       " 'c_mag': <pyopencl.cffi_cl.Buffer at 0x7fb2680ddd90>,\n",
       " 'c_vec': <pyopencl.cffi_cl.Buffer at 0x7fb26ee20fd0>,\n",
       " 'cs': 0.57735026918962584,\n",
       " 'f': <pyopencl.cffi_cl.Buffer at 0x7fb2680e30d0>,\n",
       " 'f_streamed': <pyopencl.cffi_cl.Buffer at 0x7fb2680e3150>,\n",
       " 'feq': <pyopencl.cffi_cl.Buffer at 0x7fb2680ddf90>,\n",
       " 'halo': 1,\n",
       " 'k_list': <pyopencl.cffi_cl.Buffer at 0x7fb2681e2050>,\n",
       " 'm_reproduce_list': <pyopencl.cffi_cl.Buffer at 0x7fb2681e9a50>,\n",
       " 'nx_bc': 130,\n",
       " 'ny_bc': 130,\n",
       " 'nz_bc': None,\n",
       " 'omega': 1.0000000000000002,\n",
       " 'reflect_index': <pyopencl.cffi_cl.Buffer at 0x7fb2680dddd0>,\n",
       " 'rho': <pyopencl.cffi_cl.Buffer at 0x7fb2680ddd50>,\n",
       " 'slip_index': <pyopencl.cffi_cl.Buffer at 0x7fb2680dded0>,\n",
       " 'tau': 0.99999999999999978}"
      ]
     },
     "execution_count": 61,
     "metadata": {},
     "output_type": "execute_result"
    }
   ],
   "source": [
    "dla_colony.kernel_args"
   ]
  },
  {
   "cell_type": "code",
   "execution_count": 62,
   "metadata": {},
   "outputs": [
    {
     "data": {
      "text/plain": [
       "{'collide_and_propagate': [['bc_map',\n",
       "   '__global __read_only int *bc_map_global'],\n",
       "  ['nx_bc', 'const int nx_bc'],\n",
       "  ['ny_bc', 'const int ny_bc'],\n",
       "  ['f', '__global double *f_global'],\n",
       "  ['f_streamed', '__global double *f_streamed_global'],\n",
       "  ['feq', '__global __read_only double *feq_global'],\n",
       "  ['rho', '__global double *rho_global'],\n",
       "  ['absorbed_mass', '__global double *absorbed_mass_global'],\n",
       "  ['local_mem', '__local double *rho_local'],\n",
       "  ['local_mem', '__local double *bc_map_local'],\n",
       "  ['buf_nx', 'const int buf_nx'],\n",
       "  ['buf_ny', 'const int buf_ny'],\n",
       "  ['k_list', '__constant double *k'],\n",
       "  ['D', 'const double D'],\n",
       "  ['num_jumpers', 'const int num_jumpers'],\n",
       "  ['omega', 'const double omega'],\n",
       "  ['c_vec', '__constant int *c_vec'],\n",
       "  ['c_mag', '__constant double *c_mag'],\n",
       "  ['w', '__constant double *w'],\n",
       "  ['reflect_list', '__constant double *reflect_list']],\n",
       " 'init_feq': [['feq', '__global __read_only double *feq_global'],\n",
       "  ['rho', '__global double *rho_global'],\n",
       "  ['w', '__constant double *w'],\n",
       "  ['num_jumpers', 'const int num_jumpers']],\n",
       " 'reproduce': [['bc_map', '__global __read_only int *bc_map_global'],\n",
       "  ['nx_bc', 'const int nx_bc'],\n",
       "  ['ny_bc', 'const int ny_bc'],\n",
       "  ['streamed_bc_map', '__global int *streamed_bc_map_global'],\n",
       "  ['absorbed_mass', '__global double *absorbed_mass_global'],\n",
       "  ['rand', '__global double *rand_global'],\n",
       "  ['can_reproduce_pointer', '__global int *can_reproduce_global'],\n",
       "  ['m_reproduce_list', '__constant double *m_reproduce'],\n",
       "  ['w', '__constant double *w'],\n",
       "  ['num_jumpers', 'const int num_jumpers'],\n",
       "  ['c_vec', '__constant int *c_vec'],\n",
       "  ['local_mem', '__local double *bc_map_local'],\n",
       "  ['buf_nx', 'const int buf_nx'],\n",
       "  ['buf_ny', 'const int buf_ny']],\n",
       " 'update_after_streaming': [['bc_map',\n",
       "   '__global __read_only int *bc_map_global'],\n",
       "  ['nx_bc', 'const int nx_bc'],\n",
       "  ['ny_bc', 'const int ny_bc'],\n",
       "  ['f', '__global double *f_global'],\n",
       "  ['feq', '__global __read_only double *feq_global'],\n",
       "  ['rho', '__global double *rho_global'],\n",
       "  ['w', '__constant double *w'],\n",
       "  ['num_jumpers', 'const int num_jumpers']]}"
      ]
     },
     "execution_count": 62,
     "metadata": {},
     "output_type": "execute_result"
    }
   ],
   "source": [
    "dla_colony.ctx_info['kernel_arguments']"
   ]
  },
  {
   "cell_type": "code",
   "execution_count": null,
   "metadata": {},
   "outputs": [],
   "source": []
  }
 ],
 "metadata": {
  "kernelspec": {
   "display_name": "Python 2",
   "language": "python",
   "name": "python2"
  },
  "language_info": {
   "codemirror_mode": {
    "name": "ipython",
    "version": 2
   },
   "file_extension": ".py",
   "mimetype": "text/x-python",
   "name": "python",
   "nbconvert_exporter": "python",
   "pygments_lexer": "ipython2",
   "version": "2.7.14"
  }
 },
 "nbformat": 4,
 "nbformat_minor": 2
}
