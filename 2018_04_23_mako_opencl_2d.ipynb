{
 "cells": [
  {
   "cell_type": "code",
   "execution_count": 1,
   "metadata": {},
   "outputs": [],
   "source": [
    "%load_ext autoreload\n",
    "%autoreload 2"
   ]
  },
  {
   "cell_type": "code",
   "execution_count": 11,
   "metadata": {},
   "outputs": [
    {
     "name": "stdout",
     "output_type": "stream",
     "text": [
      "Populating the interactive namespace from numpy and matplotlib\n"
     ]
    }
   ],
   "source": [
    "%pylab inline"
   ]
  },
  {
   "cell_type": "code",
   "execution_count": 100,
   "metadata": {},
   "outputs": [],
   "source": [
    "import seaborn as sns"
   ]
  },
  {
   "cell_type": "code",
   "execution_count": 101,
   "metadata": {},
   "outputs": [],
   "source": [
    "sns.set_context('paper', font_scale=2.2)\n",
    "sns.set_style('ticks')"
   ]
  },
  {
   "cell_type": "code",
   "execution_count": 102,
   "metadata": {},
   "outputs": [],
   "source": [
    "import LB_colony_growth.LB_colony_growth as lb\n",
    "\n",
    "import skimage as ski\n",
    "import skimage.draw"
   ]
  },
  {
   "cell_type": "code",
   "execution_count": 103,
   "metadata": {},
   "outputs": [],
   "source": [
    "dimension = 2\n",
    "\n",
    "workgroup_x = 32\n",
    "workgroup_y = 16\n",
    "\n",
    "halo = 1 #ALWAYS 1 for this system.\n",
    "\n",
    "num_alleles = 2\n",
    "\n",
    "nx = 128\n",
    "ny = 128\n",
    "\n",
    "velocity_set = 'D2Q9'"
   ]
  },
  {
   "cell_type": "code",
   "execution_count": 104,
   "metadata": {},
   "outputs": [],
   "source": [
    "bc_map = np.zeros((nx + 2*halo, ny + 2*halo), dtype=lb.int_type)\n",
    "\n",
    "bc_map[...] = lb.FLUID_NODE\n",
    "\n",
    "bc_map[0:halo, :] = lb.WALL_NODE\n",
    "bc_map[-halo:, :] = lb.WALL_NODE\n",
    "bc_map[:, 0:halo] = lb.WALL_NODE\n",
    "bc_map[:, -halo:] = lb.WALL_NODE"
   ]
  },
  {
   "cell_type": "code",
   "execution_count": 105,
   "metadata": {},
   "outputs": [],
   "source": [
    "R0 = 10\n",
    "\n",
    "[r, c] = ski.draw.circle(nx/2, ny/2, R0)\n",
    "\n",
    "rand_alleles = np.random.randint(-num_alleles, 0, size=(nx, ny))"
   ]
  },
  {
   "cell_type": "code",
   "execution_count": 106,
   "metadata": {},
   "outputs": [],
   "source": [
    "bc_map[r, c] = rand_alleles[r, c]"
   ]
  },
  {
   "cell_type": "code",
   "execution_count": 107,
   "metadata": {},
   "outputs": [
    {
     "data": {
      "text/plain": [
       "<matplotlib.colorbar.Colorbar at 0x7f2228232090>"
      ]
     },
     "execution_count": 107,
     "metadata": {},
     "output_type": "execute_result"
    },
    {
     "data": {
      "image/png": "[encoded data removed]",
      "text/plain": [
       "<matplotlib.figure.Figure at 0x7f2228ff6f10>"
      ]
     },
     "metadata": {},
     "output_type": "display_data"
    }
   ],
   "source": [
    "plt.imshow(bc_map)\n",
    "plt.colorbar()"
   ]
  },
  {
   "cell_type": "code",
   "execution_count": 108,
   "metadata": {},
   "outputs": [],
   "source": [
    "ctx_info = {}\n",
    "ctx_info['num_type'] = 'double'\n",
    "\n",
    "ctx_info['nx'] = nx\n",
    "ctx_info['ny'] = ny\n",
    "ctx_info['nz'] = None\n",
    "\n",
    "ctx_info['local_size'] = (workgroup_x, workgroup_y)\n",
    "ctx_info['domain_size'] = (nx, ny)\n",
    "\n",
    "ctx_info['dimension'] = dimension\n",
    "ctx_info['num_alleles'] = num_alleles\n",
    "\n",
    "ctx_info['kernel_arguments'] = {}"
   ]
  },
  {
   "cell_type": "code",
   "execution_count": 109,
   "metadata": {},
   "outputs": [
    {
     "name": "stdout",
     "output_type": "stream",
     "text": [
      "global size: (128, 128)\n",
      "local size: (32, 16)\n",
      "The platforms detected are:\n",
      "---------------------------\n",
      "Intel(R) OpenCL Intel(R) Corporation version: OpenCL 1.2 LINUX\n",
      "The devices detected on platform Intel(R) OpenCL are:\n",
      "---------------------------\n",
      "       Intel(R) Core(TM) i7-3537U CPU @ 2.00GHz [Type: CPU ]\n",
      "Maximum clock Frequency: 2000 MHz\n",
      "Maximum allocable memory size: 2062 MB\n",
      "Maximum work group size 8192\n",
      "Maximum work item dimensions 3\n",
      "Maximum work item size [8192L, 8192L, 8192L]\n",
      "---------------------------\n",
      "This context is associated with  1 devices\n",
      "global_size_bc: (160, 144)\n"
     ]
    },
    {
     "name": "stderr",
     "output_type": "stream",
     "text": [
      "LB_colony_growth/LB_colony_growth.py:499: UserWarning: Received OpenCL source code in Unicode, should be ASCII string. Attempting conversion.\n",
      "  self.cs\n"
     ]
    }
   ],
   "source": [
    "dla_colony = lb.DLA_Colony(ctx_info=ctx_info, velocity_set='D2Q9',\n",
    "             bc_map=bc_map)"
   ]
  },
  {
   "cell_type": "code",
   "execution_count": 110,
   "metadata": {},
   "outputs": [
    {
     "data": {
      "text/plain": [
       "{'bc_map': <pyopencl.cffi_cl.Buffer at 0x7f22281c14d0>,\n",
       " 'bc_map_streamed': <pyopencl.cffi_cl.Buffer at 0x7f22281c1490>,\n",
       " 'buf_nx': 34,\n",
       " 'buf_ny': 18,\n",
       " 'buf_nz': None,\n",
       " 'c_mag': <pyopencl.cffi_cl.Buffer at 0x7f22281c1390>,\n",
       " 'c_vec': <pyopencl.cffi_cl.Buffer at 0x7f2228258590>,\n",
       " 'cs': 0.57735026918962584,\n",
       " 'f': <pyopencl.cffi_cl.Buffer at 0x7f22281c1650>,\n",
       " 'f_streamed': <pyopencl.cffi_cl.Buffer at 0x7f22281c16d0>,\n",
       " 'feq': <pyopencl.cffi_cl.Buffer at 0x7f22281c15d0>,\n",
       " 'halo': 1,\n",
       " 'num_jumpers': 9,\n",
       " 'nx_bc': 130,\n",
       " 'ny_bc': 130,\n",
       " 'nz_bc': None,\n",
       " 'reflect_index': <pyopencl.cffi_cl.Buffer at 0x7f22281c1310>,\n",
       " 'rho': <pyopencl.cffi_cl.Buffer at 0x7f22281c1450>,\n",
       " 'slip_index': <pyopencl.cffi_cl.Buffer at 0x7f22281c1350>,\n",
       " 'w': <pyopencl.cffi_cl.Buffer at 0x7f222804d690>}"
      ]
     },
     "execution_count": 110,
     "metadata": {},
     "output_type": "execute_result"
    }
   ],
   "source": [
    "dla_colony.kernel_args"
   ]
  },
  {
   "cell_type": "code",
   "execution_count": null,
   "metadata": {},
   "outputs": [],
   "source": []
  }
 ],
 "metadata": {
  "kernelspec": {
   "display_name": "Python 2",
   "language": "python",
   "name": "python2"
  },
  "language_info": {
   "codemirror_mode": {
    "name": "ipython",
    "version": 2
   },
   "file_extension": ".py",
   "mimetype": "text/x-python",
   "name": "python",
   "nbconvert_exporter": "python",
   "pygments_lexer": "ipython2",
   "version": "2.7.14"
  }
 },
 "nbformat": 4,
 "nbformat_minor": 2
}
